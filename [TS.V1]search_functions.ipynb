{
 "cells": [
  {
   "cell_type": "code",
   "execution_count": 1,
   "metadata": {
    "collapsed": true
   },
   "outputs": [],
   "source": [
    "import numpy as np\n",
    "import pandas as pd"
   ]
  },
  {
   "cell_type": "code",
   "execution_count": 2,
   "metadata": {
    "collapsed": false
   },
   "outputs": [],
   "source": [
    "#import all data from the folder I've made (generated from TS.py)\n",
    "\n",
    "import glob\n",
    "data=[]\n",
    "path = \"D:/TradeMe2/*.csv\"\n",
    "for fname in glob.glob(path):\n",
    "    data.append(pd.read_csv(fname))"
   ]
  },
  {
   "cell_type": "code",
   "execution_count": 57,
   "metadata": {
    "collapsed": false
   },
   "outputs": [
    {
     "data": {
      "text/html": [
       "<div>\n",
       "<table border=\"1\" class=\"dataframe\">\n",
       "  <thead>\n",
       "    <tr style=\"text-align: right;\">\n",
       "      <th></th>\n",
       "      <th>Unnamed: 0</th>\n",
       "      <th>Location</th>\n",
       "      <th>Item_Name</th>\n",
       "      <th>BidPrice</th>\n",
       "      <th>ID</th>\n",
       "      <th>BuyNowPricee</th>\n",
       "    </tr>\n",
       "  </thead>\n",
       "  <tbody>\n",
       "    <tr>\n",
       "      <th>0</th>\n",
       "      <td>1</td>\n",
       "      <td>Auckland</td>\n",
       "      <td>ZTE F328 \"Top of Line Basic Compact Model)</td>\n",
       "      <td>$38.00</td>\n",
       "      <td>1330538382\"</td>\n",
       "      <td>$38.00</td>\n",
       "    </tr>\n",
       "    <tr>\n",
       "      <th>1</th>\n",
       "      <td>2</td>\n",
       "      <td>Auckland</td>\n",
       "      <td>iPhone 3G</td>\n",
       "      <td>$10.00</td>\n",
       "      <td>1334427418\"</td>\n",
       "      <td>BidOnly</td>\n",
       "    </tr>\n",
       "    <tr>\n",
       "      <th>2</th>\n",
       "      <td>3</td>\n",
       "      <td>Otago</td>\n",
       "      <td>Sony Xperia M2</td>\n",
       "      <td>$249.00</td>\n",
       "      <td>1330538751\"</td>\n",
       "      <td>$270.00</td>\n",
       "    </tr>\n",
       "    <tr>\n",
       "      <th>3</th>\n",
       "      <td>4</td>\n",
       "      <td>Auckland</td>\n",
       "      <td>iPhone 3GS</td>\n",
       "      <td>$10.00</td>\n",
       "      <td>1334428808\"</td>\n",
       "      <td>BidOnly</td>\n",
       "    </tr>\n",
       "    <tr>\n",
       "      <th>4</th>\n",
       "      <td>6</td>\n",
       "      <td>Auckland</td>\n",
       "      <td>Samsung Galaxy S5---Like New Condition</td>\n",
       "      <td>BuyNowOnly</td>\n",
       "      <td>1330548139\"</td>\n",
       "      <td>$279.00</td>\n",
       "    </tr>\n",
       "  </tbody>\n",
       "</table>\n",
       "</div>"
      ],
      "text/plain": [
       "   Unnamed: 0  Location                                   Item_Name  \\\n",
       "0           1  Auckland  ZTE F328 \"Top of Line Basic Compact Model)   \n",
       "1           2  Auckland                                   iPhone 3G   \n",
       "2           3     Otago                              Sony Xperia M2   \n",
       "3           4  Auckland                                  iPhone 3GS   \n",
       "4           6  Auckland      Samsung Galaxy S5---Like New Condition   \n",
       "\n",
       "     BidPrice           ID BuyNowPricee  \n",
       "0      $38.00  1330538382\"       $38.00  \n",
       "1      $10.00  1334427418\"      BidOnly  \n",
       "2     $249.00  1330538751\"      $270.00  \n",
       "3      $10.00  1334428808\"      BidOnly  \n",
       "4  BuyNowOnly  1330548139\"      $279.00  "
      ]
     },
     "execution_count": 57,
     "metadata": {},
     "output_type": "execute_result"
    }
   ],
   "source": [
    "SuperData=pd.concat(data)\n",
    "SuperData.head(5)"
   ]
  },
  {
   "cell_type": "code",
   "execution_count": 5,
   "metadata": {
    "collapsed": false
   },
   "outputs": [],
   "source": [
    "#basic search: not sufficiently accurate.\n",
    "\n",
    "#SuperData.loc[SuperData['Location'].str.contains('Auckland')]"
   ]
  },
  {
   "cell_type": "code",
   "execution_count": 58,
   "metadata": {
    "collapsed": false
   },
   "outputs": [
    {
     "data": {
      "text/html": [
       "<div>\n",
       "<table border=\"1\" class=\"dataframe\">\n",
       "  <thead>\n",
       "    <tr style=\"text-align: right;\">\n",
       "      <th></th>\n",
       "      <th>Unnamed: 0</th>\n",
       "      <th>Location</th>\n",
       "      <th>Item_Name</th>\n",
       "      <th>BidPrice</th>\n",
       "      <th>ID</th>\n",
       "      <th>BuyNowPricee</th>\n",
       "    </tr>\n",
       "  </thead>\n",
       "  <tbody>\n",
       "    <tr>\n",
       "      <th>50</th>\n",
       "      <td>54</td>\n",
       "      <td>Auckland</td>\n",
       "      <td>iPhone 6</td>\n",
       "      <td>BuyNowOnly</td>\n",
       "      <td>1329808163\"</td>\n",
       "      <td>$549.00</td>\n",
       "    </tr>\n",
       "    <tr>\n",
       "      <th>51</th>\n",
       "      <td>53</td>\n",
       "      <td>Auckland</td>\n",
       "      <td>iPhone 6</td>\n",
       "      <td>BuyNowOnly</td>\n",
       "      <td>1329808163\"</td>\n",
       "      <td>$549.00</td>\n",
       "    </tr>\n",
       "    <tr>\n",
       "      <th>34</th>\n",
       "      <td>36</td>\n",
       "      <td>Auckland</td>\n",
       "      <td>iPhone 6</td>\n",
       "      <td>BuyNowOnly</td>\n",
       "      <td>1329808163\"</td>\n",
       "      <td>$549.00</td>\n",
       "    </tr>\n",
       "    <tr>\n",
       "      <th>33</th>\n",
       "      <td>35</td>\n",
       "      <td>Auckland</td>\n",
       "      <td>iPhone 6</td>\n",
       "      <td>BuyNowOnly</td>\n",
       "      <td>1329808163\"</td>\n",
       "      <td>$549.00</td>\n",
       "    </tr>\n",
       "    <tr>\n",
       "      <th>22</th>\n",
       "      <td>24</td>\n",
       "      <td>Auckland</td>\n",
       "      <td>iPhone 6</td>\n",
       "      <td>BuyNowOnly</td>\n",
       "      <td>1329808163\"</td>\n",
       "      <td>$549.00</td>\n",
       "    </tr>\n",
       "  </tbody>\n",
       "</table>\n",
       "</div>"
      ],
      "text/plain": [
       "    Unnamed: 0  Location Item_Name    BidPrice           ID BuyNowPricee\n",
       "50          54  Auckland  iPhone 6  BuyNowOnly  1329808163\"      $549.00\n",
       "51          53  Auckland  iPhone 6  BuyNowOnly  1329808163\"      $549.00\n",
       "34          36  Auckland  iPhone 6  BuyNowOnly  1329808163\"      $549.00\n",
       "33          35  Auckland  iPhone 6  BuyNowOnly  1329808163\"      $549.00\n",
       "22          24  Auckland  iPhone 6  BuyNowOnly  1329808163\"      $549.00"
      ]
     },
     "execution_count": 58,
     "metadata": {},
     "output_type": "execute_result"
    }
   ],
   "source": [
    "def search(item,data): # probably by index...\n",
    "    df = data.loc[(data.ix[:,'ID'] == item)]\n",
    "    return(df)\n",
    "search('1329808163\"',SuperData).head(5) #top 5 items from this function."
   ]
  },
  {
   "cell_type": "code",
   "execution_count": 41,
   "metadata": {
    "collapsed": false
   },
   "outputs": [],
   "source": [
    "IDS=SuperData['ID'].tolist()\n",
    "IDSU=np.unique(IDS)"
   ]
  },
  {
   "cell_type": "code",
   "execution_count": 24,
   "metadata": {
    "collapsed": true
   },
   "outputs": [],
   "source": [
    "ULTRA=[] #reference list. #Is to show that I can indeed subset this data\n",
    "\n",
    "for i in range(len(IDSU)):\n",
    "    ULTRA.append(search(IDSU[i]))"
   ]
  },
  {
   "cell_type": "code",
   "execution_count": 55,
   "metadata": {
    "collapsed": false
   },
   "outputs": [],
   "source": [
    "#Pretty useful function: you search for some string, eg 'iPhone' \n",
    "#returns a list of lists, each item(list) within the parent list is\n",
    "#some unique item and its activity over time.\n",
    "\n",
    "#So, I search for 'iPhone'- this returns all listing with the phrase 'iphone'\n",
    "#then, the data is subsetted to these listings only. After this, the\n",
    "#'search' function is applied to the subsetted data for all unique IDS \n",
    "#and hence items themselves.\n",
    "\n",
    "def name(item): \n",
    "    dfbasic = SuperData.loc[SuperData['Item_Name'].str.contains(item)]\n",
    "    IDS=dfbasic['ID'].tolist()\n",
    "    IDS2=np.unique(IDS)\n",
    "    \n",
    "    lister=[]\n",
    "    \n",
    "    for i in range(len(IDS2)):\n",
    "        lister.append(search(IDS2[i], dfbasic))\n",
    "    return(lister)\n",
    "    "
   ]
  },
  {
   "cell_type": "code",
   "execution_count": 56,
   "metadata": {
    "collapsed": false
   },
   "outputs": [
    {
     "data": {
      "text/html": [
       "<div>\n",
       "<table border=\"1\" class=\"dataframe\">\n",
       "  <thead>\n",
       "    <tr style=\"text-align: right;\">\n",
       "      <th></th>\n",
       "      <th>Unnamed: 0</th>\n",
       "      <th>Location</th>\n",
       "      <th>Item_Name</th>\n",
       "      <th>BidPrice</th>\n",
       "      <th>ID</th>\n",
       "      <th>BuyNowPricee</th>\n",
       "    </tr>\n",
       "  </thead>\n",
       "  <tbody>\n",
       "    <tr>\n",
       "      <th>59</th>\n",
       "      <td>126</td>\n",
       "      <td>Auckland</td>\n",
       "      <td>iPhone 6s plus 64GB</td>\n",
       "      <td>BuyNowOnly</td>\n",
       "      <td>1329811520\"</td>\n",
       "      <td>$899.00</td>\n",
       "    </tr>\n",
       "    <tr>\n",
       "      <th>63</th>\n",
       "      <td>131</td>\n",
       "      <td>Auckland</td>\n",
       "      <td>iPhone 6s plus 64GB</td>\n",
       "      <td>BuyNowOnly</td>\n",
       "      <td>1329811520\"</td>\n",
       "      <td>$899.00</td>\n",
       "    </tr>\n",
       "    <tr>\n",
       "      <th>59</th>\n",
       "      <td>126</td>\n",
       "      <td>Auckland</td>\n",
       "      <td>iPhone 6s plus 64GB</td>\n",
       "      <td>BuyNowOnly</td>\n",
       "      <td>1329811520\"</td>\n",
       "      <td>$899.00</td>\n",
       "    </tr>\n",
       "    <tr>\n",
       "      <th>44</th>\n",
       "      <td>48</td>\n",
       "      <td>Auckland</td>\n",
       "      <td>iPhone 6s plus 64GB</td>\n",
       "      <td>BuyNowOnly</td>\n",
       "      <td>1329811520\"</td>\n",
       "      <td>$899.00</td>\n",
       "    </tr>\n",
       "    <tr>\n",
       "      <th>49</th>\n",
       "      <td>53</td>\n",
       "      <td>Auckland</td>\n",
       "      <td>iPhone 6s plus 64GB</td>\n",
       "      <td>BuyNowOnly</td>\n",
       "      <td>1329811520\"</td>\n",
       "      <td>$899.00</td>\n",
       "    </tr>\n",
       "  </tbody>\n",
       "</table>\n",
       "</div>"
      ],
      "text/plain": [
       "    Unnamed: 0  Location            Item_Name    BidPrice           ID  \\\n",
       "59         126  Auckland  iPhone 6s plus 64GB  BuyNowOnly  1329811520\"   \n",
       "63         131  Auckland  iPhone 6s plus 64GB  BuyNowOnly  1329811520\"   \n",
       "59         126  Auckland  iPhone 6s plus 64GB  BuyNowOnly  1329811520\"   \n",
       "44          48  Auckland  iPhone 6s plus 64GB  BuyNowOnly  1329811520\"   \n",
       "49          53  Auckland  iPhone 6s plus 64GB  BuyNowOnly  1329811520\"   \n",
       "\n",
       "   BuyNowPricee  \n",
       "59      $899.00  \n",
       "63      $899.00  \n",
       "59      $899.00  \n",
       "44      $899.00  \n",
       "49      $899.00  "
      ]
     },
     "execution_count": 56,
     "metadata": {},
     "output_type": "execute_result"
    }
   ],
   "source": [
    "name('iPhone 6')[5].head(5) #top 5 results from the 5th unique listing of 'iPhone'."
   ]
  },
  {
   "cell_type": "code",
   "execution_count": null,
   "metadata": {
    "collapsed": true
   },
   "outputs": [],
   "source": []
  }
 ],
 "metadata": {
  "anaconda-cloud": {},
  "kernelspec": {
   "display_name": "Python [Root]",
   "language": "python",
   "name": "Python [Root]"
  },
  "language_info": {
   "codemirror_mode": {
    "name": "ipython",
    "version": 3
   },
   "file_extension": ".py",
   "mimetype": "text/x-python",
   "name": "python",
   "nbconvert_exporter": "python",
   "pygments_lexer": "ipython3",
   "version": "3.5.2"
  }
 },
 "nbformat": 4,
 "nbformat_minor": 0
}
