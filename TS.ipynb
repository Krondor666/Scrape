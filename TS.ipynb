{
 "cells": [
  {
   "cell_type": "code",
   "execution_count": 1,
   "metadata": {
    "collapsed": false
   },
   "outputs": [
    {
     "data": {
      "text/plain": [
       "'Add these in when running by itself (not part of a loop)'"
      ]
     },
     "execution_count": 1,
     "metadata": {},
     "output_type": "execute_result"
    }
   ],
   "source": [
    "import urllib  \n",
    "import urllib.request\n",
    "from bs4 import BeautifulSoup\n",
    "import pandas as pd\n",
    "import numpy as np\n",
    "\n",
    "'Add these in when running by itself (not part of a loop)'"
   ]
  },
  {
   "cell_type": "code",
   "execution_count": 2,
   "metadata": {
    "collapsed": false
   },
   "outputs": [],
   "source": [
    "opener=urllib.request.build_opener()\n",
    "opener.addheaders=[('User-Agent', 'Google Chrome/57.0.2987.133')]"
   ]
  },
  {
   "cell_type": "code",
   "execution_count": 3,
   "metadata": {
    "collapsed": false
   },
   "outputs": [],
   "source": [
    "url=('http://www.trademe.co.nz')\n",
    "ourURL=opener.open(url).read()\n",
    "import re"
   ]
  },
  {
   "cell_type": "code",
   "execution_count": 4,
   "metadata": {
    "collapsed": false
   },
   "outputs": [],
   "source": [
    "soup=BeautifulSoup(ourURL, \"lxml\")"
   ]
  },
  {
   "cell_type": "code",
   "execution_count": 5,
   "metadata": {
    "collapsed": false
   },
   "outputs": [],
   "source": [
    "#soup #this is all the HTML on the given URL.\n",
    "\n",
    "#print(soup(text=re.compile(\"Mobile\")))"
   ]
  },
  {
   "cell_type": "code",
   "execution_count": 6,
   "metadata": {
    "collapsed": false,
    "scrolled": true
   },
   "outputs": [
    {
     "data": {
      "text/plain": [
       "'http://www.trademe.co.nz/browse/categorylistings.aspx?rptpath=344-422-&mcatpath=mobile-phones%2fmobile-phones&page=0'"
      ]
     },
     "execution_count": 6,
     "metadata": {},
     "output_type": "execute_result"
    }
   ],
   "source": [
    "def urlmaker(page):\n",
    "    return('http://www.trademe.co.nz/browse/categorylistings.aspx?rptpath=344-422-&mcatpath=mobile-phones%2fmobile-phones&page='\n",
    "           +str(page))\n",
    "urlmaker(0)"
   ]
  },
  {
   "cell_type": "code",
   "execution_count": 9,
   "metadata": {
    "collapsed": true
   },
   "outputs": [],
   "source": [
    "def soupify(page):\n",
    "    return(BeautifulSoup(opener.open(urlmaker(page)).read(),\"lxml\") )\n",
    "#soupify(0)"
   ]
  },
  {
   "cell_type": "code",
   "execution_count": 10,
   "metadata": {
    "collapsed": false
   },
   "outputs": [],
   "source": [
    "#this is every instance of soupify, to make less reliance on functions later-> and to hault time.\n",
    "#I will run this once per day.\n",
    "\n",
    "soups=[]\n",
    "\n",
    "for i in range(0,120):\n",
    "        soups.append(soupify(i))\n",
    "\n",
    "#soups[0]\n",
    "\n",
    "#UPDATE: Yeah this made it work like 10X faster. :>"
   ]
  },
  {
   "cell_type": "code",
   "execution_count": 11,
   "metadata": {
    "collapsed": false
   },
   "outputs": [],
   "source": [
    "#definitions have to be more complex here...\n",
    "\n",
    "#the below contains all items as a single string.\n",
    "\n",
    "def item(page):\n",
    "    p=soups[page].findAll('a', {'class':re.compile(\"tile\")})\n",
    "    paragraphs=[]\n",
    "    \n",
    "    for x in p:\n",
    "        paragraphs.append(str(x))\n",
    "    for i in range(len(paragraphs)):  \n",
    "        paragraphs[i]=\" \".join(paragraphs[i].split())\n",
    "    return(paragraphs)\n",
    "\n",
    "#item(0)\n",
    "\n",
    "#This is information on each item for that page. If I can find an effecive way to\n",
    "#subset this, I can gather information in 1 step"
   ]
  },
  {
   "cell_type": "code",
   "execution_count": 12,
   "metadata": {
    "collapsed": false
   },
   "outputs": [],
   "source": [
    "#TIME TO GO HYPERSPEED.\n",
    "\n",
    "items=[]\n",
    "for j in range(len(soups)):\n",
    "        items.append(item(j))\n",
    "     "
   ]
  },
  {
   "cell_type": "code",
   "execution_count": 13,
   "metadata": {
    "collapsed": false
   },
   "outputs": [
    {
     "data": {
      "text/plain": [
       "'Enter logic either side of (.+?) {in the red}'"
      ]
     },
     "execution_count": 13,
     "metadata": {},
     "output_type": "execute_result"
    }
   ],
   "source": [
    "def location(page):\n",
    "    liste=[]\n",
    "    for i in range(len(items[page])):\n",
    "        liste.append(re.search('<div class=\"location\">(.+?)</div>', \n",
    "                               items[page][i]).group(1)) \n",
    "    return(liste) \n",
    "\n",
    "def name(page):\n",
    "    liste=[]\n",
    "    for i in range(len(items[page])):\n",
    "        liste.append(re.search('<div class=\"title\">(.+?)</div>', \n",
    "                               items[page][i]).group(1))  \n",
    "    return(liste)\n",
    "\n",
    "def bidprices(page):\n",
    "    liste=[]\n",
    "    for i in range(len(items[page])):\n",
    "        try:\n",
    "            liste.append(re.search('<div class=\"listingBidPrice\" id=\"SuperGridGallery_ctl00_BidInfo_listingBidPrice\">(.+?)</div>'\n",
    "                                   , items[page][i]).group(1))    \n",
    "        except:\n",
    "            liste.append('BuyNowOnly')   \n",
    "    return(liste)\n",
    "\n",
    "def buynowprices(page):\n",
    "    liste=[]\n",
    "    for i in range(len(items[page])):\n",
    "        try:\n",
    "            liste.append(re.search('<div class=\"listingBuyNowPrice\" id=\"SuperGridGallery_ctl00_BuyNow_listingBuyNowPrice\">(.+?)</div>'\n",
    "                                   , items[page][i]).group(1))    \n",
    "        except:\n",
    "            liste.append('BidOnly')\n",
    "    return(liste)\n",
    "\n",
    "\n",
    "def buynowalt(page):\n",
    "    liste=[]\n",
    "    for i in range(len(items[page])):\n",
    "        try:\n",
    "            liste.append(re.search('<div class=\"listingBuyNowPrice with-was-price\" id=\"SuperGridGallery_ctl00_BuyNow_listingBuyNowPrice\">(.+?)</div>'\n",
    "                                   , items[page][i]).group(1))    \n",
    "        except:\n",
    "            liste.append('NaN')\n",
    "    return(liste)\n",
    "\n",
    "def buynowalt2(page):\n",
    "    liste=[]\n",
    "    for i in range(len(items[page])):\n",
    "        try:\n",
    "            liste.append(re.search('div class=\"listingBuyNowPrice with-was-price with-was-price with-was-price\" id=\"SuperGridGallery_ctl00_BuyNow_listingBuyNowPrice\">(.+?)</div>'\n",
    "                                   , items[page][i]).group(1))    \n",
    "        except:\n",
    "            liste.append('NaN')\n",
    "    return(liste)\n",
    "\n",
    "def ID(page):\n",
    "    liste=[]\n",
    "    for i in range(len(items[page])):\n",
    "        liste.append(re.search('<div class=\"watchlist \" id=\"watchlist(.+?)onclick', \n",
    "                               items[page][i]).group(1))  \n",
    "    return(liste)\n",
    "\n",
    "\n",
    "'Enter logic either side of (.+?) {in the red}'"
   ]
  },
  {
   "cell_type": "code",
   "execution_count": 14,
   "metadata": {
    "collapsed": false
   },
   "outputs": [],
   "source": [
    "locations=[]\n",
    "\n",
    "for i in range(len(soups)):\n",
    "    locations.append(location(i))\n",
    "    \n",
    "flattened_locations = [val for sublist in locations for val in sublist]\n",
    "#flattened_locations"
   ]
  },
  {
   "cell_type": "code",
   "execution_count": 15,
   "metadata": {
    "collapsed": false
   },
   "outputs": [],
   "source": [
    "names=[]\n",
    "\n",
    "for i in range(len(soups)):\n",
    "    names.append(name(i))\n",
    "    \n",
    "flattened_names = [val for sublist in names for val in sublist]\n",
    "#flattened_names"
   ]
  },
  {
   "cell_type": "code",
   "execution_count": 16,
   "metadata": {
    "collapsed": false
   },
   "outputs": [],
   "source": [
    "bidpricess=[]\n",
    "\n",
    "for i in range(len(soups)):\n",
    "    bidpricess.append(bidprices(i))\n",
    "    \n",
    "flattened_bidprices = [val for sublist in bidpricess for val in sublist]\n",
    "#flattened_bidprices"
   ]
  },
  {
   "cell_type": "code",
   "execution_count": 17,
   "metadata": {
    "collapsed": true
   },
   "outputs": [],
   "source": [
    "buynowpricess=[]\n",
    "\n",
    "for i in range(len(soups)):\n",
    "    buynowpricess.append(buynowprices(i))\n",
    "    \n",
    "flattened_buynowprices = [val for sublist in buynowpricess for val in sublist]\n",
    "#flattened_buynowpricess"
   ]
  },
  {
   "cell_type": "code",
   "execution_count": 18,
   "metadata": {
    "collapsed": false
   },
   "outputs": [],
   "source": [
    "buynowpricessalt=[]\n",
    "\n",
    "for i in range(len(soups)):\n",
    "    buynowpricessalt.append(buynowalt(i))\n",
    "    \n",
    "flattened_buynowpricesalt = [val for sublist in buynowpricessalt for val in sublist]\n",
    "#flattened_buynowpricess"
   ]
  },
  {
   "cell_type": "code",
   "execution_count": 19,
   "metadata": {
    "collapsed": true
   },
   "outputs": [],
   "source": [
    "buynowpricessalt2=[]\n",
    "\n",
    "for i in range(len(soups)):\n",
    "    buynowpricessalt2.append(buynowalt2(i))\n",
    "    \n",
    "flattened_buynowpricesalt2 = [val for sublist in buynowpricessalt2 for val in sublist]\n",
    "#flattened_buynowpricess"
   ]
  },
  {
   "cell_type": "code",
   "execution_count": 20,
   "metadata": {
    "collapsed": true
   },
   "outputs": [],
   "source": [
    "IDS=[]\n",
    "\n",
    "for i in range(len(soups)):\n",
    "    IDS.append(ID(i))\n",
    "    \n",
    "flattened_IDS = [val for sublist in IDS for val in sublist]\n",
    "#flattened_IDS"
   ]
  },
  {
   "cell_type": "code",
   "execution_count": 21,
   "metadata": {
    "collapsed": false
   },
   "outputs": [],
   "source": [
    "Frame=pd.DataFrame()\n",
    "\n",
    "Frame['Location']=flattened_locations\n",
    "Frame['Item_Name']=flattened_names\n",
    "Frame['BidPrice']=flattened_bidprices\n",
    "Frame['BuyNow_Price']=flattened_buynowprices\n",
    "Frame['Price_Fixer']=flattened_buynowpricesalt\n",
    "Frame['Price_Fixer2']=flattened_buynowpricesalt2\n",
    "Frame['ID']=flattened_IDS"
   ]
  },
  {
   "cell_type": "code",
   "execution_count": 22,
   "metadata": {
    "collapsed": false
   },
   "outputs": [
    {
     "name": "stdout",
     "output_type": "stream",
     "text": [
      "5937\n"
     ]
    }
   ],
   "source": [
    "#Time to filtered\n",
    "\n",
    "#would like to do this in one line...looks uggo af.\n",
    "filtered=Frame[Frame.Item_Name.str.contains(\"Screen\") == False]\n",
    "filtered=filtered[filtered.Item_Name.str.contains(\"screen\") == False]\n",
    "filtered=filtered[filtered.Item_Name.str.contains(\"Case\") == False]\n",
    "filtered=filtered[filtered.Item_Name.str.contains(\"case\") == False]\n",
    "filtered=filtered[filtered.Item_Name.str.contains(\"Lense\") == False]\n",
    "filtered=filtered[filtered.Item_Name.str.contains(\"lense\") == False]\n",
    "filtered=filtered[filtered.Item_Name.str.contains(\"Trade\") == False]\n",
    "filtered=filtered[filtered.Item_Name.str.contains(\"trade\") == False]\n",
    "filtered=filtered[filtered.Item_Name.str.contains(\"adapter\") == False]\n",
    "filtered=filtered[filtered.Item_Name.str.contains(\"Adapter\") == False]\n",
    "filtered=filtered[filtered.Item_Name.str.contains(\"Dock\") == False]\n",
    "filtered=filtered[filtered.Item_Name.str.contains(\"dock\") == False]\n",
    "filtered=filtered[filtered.Item_Name.str.contains(\"parts\") == False]\n",
    "filtered=filtered[filtered.Item_Name.str.contains(\"Parts\") == False]\n",
    "\n",
    "print(len(filtered))\n",
    "\n",
    "#List to use if doable in a one liner\n",
    "\n",
    "to_remove=[\"Screen\",\"screen\",\"Case\",\"case\",\"Lense\",\"lense\",\"Trade\",\"trade\",\n",
    "          \"adapter\",\"Adapter\",\"Dock\",\"dock\",\"parts\",\"Parts\"]\n",
    "\n",
    "#filtered"
   ]
  },
  {
   "cell_type": "code",
   "execution_count": 23,
   "metadata": {
    "collapsed": false
   },
   "outputs": [],
   "source": [
    "lister=[]\n",
    "\n",
    "for i in range(len(filtered)):\n",
    "    if filtered.iloc[i]['BidPrice']=='BuyNowOnly' and filtered.iloc[i]['BuyNow_Price']=='BidOnly':\n",
    "        lister.append(filtered.iloc[i]['Price_Fixer'])\n",
    "    else:\n",
    "         lister.append(filtered.iloc[i]['BuyNow_Price'])\n",
    "#lister   "
   ]
  },
  {
   "cell_type": "code",
   "execution_count": 24,
   "metadata": {
    "collapsed": false
   },
   "outputs": [],
   "source": [
    "#del filtered['BuyNow_Price']\n",
    "#del filtered['Price_Fixer']\n",
    "filtered['BuyNowPrice']=lister\n",
    "filtered\n",
    "\n",
    "lister2=[]\n",
    "\n",
    "for i in range(len(filtered)):\n",
    "    if filtered.iloc[i]['BuyNowPrice']=='NaN':\n",
    "        lister2.append(filtered.iloc[i]['Price_Fixer2'])\n",
    "    else:\n",
    "         lister2.append(filtered.iloc[i]['BuyNowPrice'])\n",
    "            \n",
    "filtered['BuyNowPricee']=lister2\n",
    "#lister   \n",
    "\n",
    "del filtered['BuyNow_Price']\n",
    "del filtered['Price_Fixer']\n",
    "del filtered['BuyNowPrice']\n",
    "del filtered['Price_Fixer2']"
   ]
  },
  {
   "cell_type": "code",
   "execution_count": 25,
   "metadata": {
    "collapsed": false
   },
   "outputs": [
    {
     "data": {
      "text/plain": [
       "'2017+05+25-14+41+58'"
      ]
     },
     "execution_count": 25,
     "metadata": {},
     "output_type": "execute_result"
    }
   ],
   "source": [
    "import time\n",
    "timestr = time.strftime(\"%Y+%m+%d-%H+%M+%S\")\n",
    "timestr"
   ]
  },
  {
   "cell_type": "code",
   "execution_count": 26,
   "metadata": {
    "collapsed": false
   },
   "outputs": [
    {
     "name": "stdout",
     "output_type": "stream",
     "text": [
      "5742\n",
      "5649\n"
     ]
    }
   ],
   "source": [
    "filtered=filtered[filtered.BuyNowPricee.str.contains(\"NaN\") == False]\n",
    "print(len(filtered))\n",
    "filtered2=filtered.drop_duplicates()  #duplicate rows for some reason.\n",
    "print(len(filtered2))\n",
    "\n",
    "path='D:\\\\TradeMe2\\\\'\n",
    "\n",
    "df_obj = filtered2.select_dtypes(['object'])\n",
    "filtered2[df_obj.columns] = df_obj.apply(lambda x: x.str.strip())\n",
    "\n",
    "filtered2.to_csv(path+'filtered_data'+timestr+'.csv', dwdelimiter=',', encoding='utf-8')"
   ]
  }
 ],
 "metadata": {
  "anaconda-cloud": {},
  "kernelspec": {
   "display_name": "Python [Root]",
   "language": "python",
   "name": "Python [Root]"
  },
  "language_info": {
   "codemirror_mode": {
    "name": "ipython",
    "version": 3
   },
   "file_extension": ".py",
   "mimetype": "text/x-python",
   "name": "python",
   "nbconvert_exporter": "python",
   "pygments_lexer": "ipython3",
   "version": "3.5.2"
  }
 },
 "nbformat": 4,
 "nbformat_minor": 0
}
