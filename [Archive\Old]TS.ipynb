{
 "cells": [
  {
   "cell_type": "code",
   "execution_count": 1,
   "metadata": {
    "collapsed": false
   },
   "outputs": [],
   "source": [
    "#Import required packages.\n",
    "\n",
    "import urllib  \n",
    "import urllib.request\n",
    "from bs4 import BeautifulSoup\n",
    "import pandas as pd\n",
    "import numpy as np\n",
    "import re"
   ]
  },
  {
   "cell_type": "code",
   "execution_count": 2,
   "metadata": {
    "collapsed": false
   },
   "outputs": [],
   "source": [
    "#Setting up parser preliminiaries.\n",
    "\n",
    "opener=urllib.request.build_opener()\n",
    "opener.addheaders=[('User-Agent', 'Google Chrome/57.0.2987.133')]\n",
    "\n",
    "url=('http://www.trademe.co.nz')\n",
    "ourURL=opener.open(url).read()"
   ]
  },
  {
   "cell_type": "code",
   "execution_count": 3,
   "metadata": {
    "collapsed": false,
    "scrolled": true
   },
   "outputs": [
    {
     "data": {
      "text/plain": [
       "'http://www.trademe.co.nz/browse/categorylistings.aspx?rptpath=344-422-&mcatpath=mobile-phones%2fmobile-phones&page=0'"
      ]
     },
     "execution_count": 3,
     "metadata": {},
     "output_type": "execute_result"
    }
   ],
   "source": [
    "def urlmaker(page):\n",
    "    return('http://www.trademe.co.nz/browse/categorylistings.aspx?rptpath=344-422-&mcatpath=mobile-phones%2fmobile-phones&page='\n",
    "           +str(page))\n",
    "urlmaker(0)\n",
    "\n",
    "#Simple function which returns page number for mobile phone listings, ie: ulrmaker(5)= ulr for page 5 of listings."
   ]
  },
  {
   "cell_type": "code",
   "execution_count": 4,
   "metadata": {
    "collapsed": true
   },
   "outputs": [],
   "source": [
    "def soupify(page):\n",
    "    return(BeautifulSoup(opener.open(urlmaker(page)).read(),\"lxml\") )\n",
    "#soupify(0)\n",
    "\n",
    "#Returns .html file for a given page."
   ]
  },
  {
   "cell_type": "code",
   "execution_count": 5,
   "metadata": {
    "collapsed": false
   },
   "outputs": [],
   "source": [
    "#this is every instance of soupify for every page. Doing this way to reduce function clutter+ save a LOT of time\n",
    "\n",
    "soups=[]\n",
    "\n",
    "for i in range(0,120):\n",
    "        soups.append(soupify(i))\n",
    "\n",
    "#soups[0]"
   ]
  },
  {
   "cell_type": "code",
   "execution_count": 9,
   "metadata": {
    "collapsed": false
   },
   "outputs": [],
   "source": [
    "#This function trims the .html into a single string for each listing. The output is a list: item(page)[listing]\n",
    "\n",
    "def item(page):\n",
    "    p=soups[page].findAll('a', {'class':re.compile(\"tile\")})\n",
    "    paragraphs=[]\n",
    "    \n",
    "    for x in p:\n",
    "        paragraphs.append(str(x))\n",
    "    for i in range(len(paragraphs)):  \n",
    "        paragraphs[i]=\" \".join(paragraphs[i].split())\n",
    "    return(paragraphs)\n",
    "\n",
    "#item(0)[1]"
   ]
  },
  {
   "cell_type": "code",
   "execution_count": 12,
   "metadata": {
    "collapsed": false
   },
   "outputs": [],
   "source": [
    "#Using the same logic as soups: iterate this over each item in soups: so we are not reliant on the item() function.\n",
    "items=[]\n",
    "for j in range(len(soups)):\n",
    "        items.append(item(j))\n",
    "     "
   ]
  },
  {
   "cell_type": "code",
   "execution_count": 13,
   "metadata": {
    "collapsed": false
   },
   "outputs": [
    {
     "data": {
      "text/plain": [
       "'Enter logic either side of (.+?) {in the red}'"
      ]
     },
     "execution_count": 13,
     "metadata": {},
     "output_type": "execute_result"
    }
   ],
   "source": [
    "#here logic is applied to listing strings: defining search functions.\n",
    "\n",
    "def location(page):\n",
    "    liste=[]\n",
    "    for i in range(len(items[page])):\n",
    "        liste.append(re.search('<div class=\"location\">(.+?)</div>', \n",
    "                               items[page][i]).group(1)) \n",
    "    return(liste) \n",
    "\n",
    "def name(page):\n",
    "    liste=[]\n",
    "    for i in range(len(items[page])):\n",
    "        liste.append(re.search('<div class=\"title\">(.+?)</div>', \n",
    "                               items[page][i]).group(1))  \n",
    "    return(liste)\n",
    "\n",
    "def bidprices(page):\n",
    "    liste=[]\n",
    "    for i in range(len(items[page])):\n",
    "        try:\n",
    "            liste.append(re.search('<div class=\"listingBidPrice\" id=\"SuperGridGallery_ctl00_BidInfo_listingBidPrice\">(.+?)</div>'\n",
    "                                   , items[page][i]).group(1))    \n",
    "        except:\n",
    "            liste.append('BuyNowOnly')   \n",
    "    return(liste)\n",
    "\n",
    "def buynowprices(page):\n",
    "    liste=[]\n",
    "    for i in range(len(items[page])):\n",
    "        try:\n",
    "            liste.append(re.search('<div class=\"listingBuyNowPrice\" id=\"SuperGridGallery_ctl00_BuyNow_listingBuyNowPrice\">(.+?)</div>'\n",
    "                                   , items[page][i]).group(1))    \n",
    "        except:\n",
    "            liste.append('BidOnly')\n",
    "    return(liste)\n",
    "\n",
    "\n",
    "def buynowalt(page):\n",
    "    liste=[]\n",
    "    for i in range(len(items[page])):\n",
    "        try:\n",
    "            liste.append(re.search('<div class=\"listingBuyNowPrice with-was-price\" id=\"SuperGridGallery_ctl00_BuyNow_listingBuyNowPrice\">(.+?)</div>'\n",
    "                                   , items[page][i]).group(1))    \n",
    "        except:\n",
    "            liste.append('NaN')\n",
    "    return(liste)\n",
    "\n",
    "def buynowalt2(page):\n",
    "    liste=[]\n",
    "    for i in range(len(items[page])):\n",
    "        try:\n",
    "            liste.append(re.search('div class=\"listingBuyNowPrice with-was-price with-was-price with-was-price\" id=\"SuperGridGallery_ctl00_BuyNow_listingBuyNowPrice\">(.+?)</div>'\n",
    "                                   , items[page][i]).group(1))    \n",
    "        except:\n",
    "            liste.append('NaN')\n",
    "    return(liste)\n",
    "\n",
    "def ID(page):\n",
    "    liste=[]\n",
    "    for i in range(len(items[page])):\n",
    "        liste.append(re.search('<div class=\"watchlist \" id=\"watchlist(.+?)onclick', \n",
    "                               items[page][i]).group(1))  \n",
    "    return(liste)\n",
    "\n",
    "\n",
    "'Enter logic either side of (.+?) {in the red}'"
   ]
  },
  {
   "cell_type": "code",
   "execution_count": 12,
   "metadata": {
    "collapsed": false
   },
   "outputs": [],
   "source": [
    "#again: applying this list logic. Some inconsistency in how prices are listed calls for the different bid/buynow lists.\n",
    "\n",
    "locations=[]\n",
    "\n",
    "for i in range(len(soups)):\n",
    "    locations.append(location(i))\n",
    "    \n",
    "flattened_locations = [val for sublist in locations for val in sublist]\n",
    "#flattened_locations\n",
    "\n",
    "names=[]\n",
    "\n",
    "for i in range(len(soups)):\n",
    "    names.append(name(i))\n",
    "    \n",
    "flattened_names = [val for sublist in names for val in sublist]\n",
    "#flattened_names\n",
    "\n",
    "bidpricess=[]\n",
    "\n",
    "for i in range(len(soups)):\n",
    "    bidpricess.append(bidprices(i))\n",
    "    \n",
    "flattened_bidprices = [val for sublist in bidpricess for val in sublist]\n",
    "#flattened_bidprices\n",
    "\n",
    "buynowpricess=[]\n",
    "\n",
    "for i in range(len(soups)):\n",
    "    buynowpricess.append(buynowprices(i))\n",
    "    \n",
    "flattened_buynowprices = [val for sublist in buynowpricess for val in sublist]\n",
    "#flattened_buynowpricess\n",
    "\n",
    "buynowpricessalt=[]\n",
    "\n",
    "for i in range(len(soups)):\n",
    "    buynowpricessalt.append(buynowalt(i))\n",
    "    \n",
    "flattened_buynowpricesalt = [val for sublist in buynowpricessalt for val in sublist]\n",
    "#flattened_buynowpricess\n",
    "\n",
    "buynowpricessalt2=[]\n",
    "\n",
    "for i in range(len(soups)):\n",
    "    buynowpricessalt2.append(buynowalt2(i))\n",
    "    \n",
    "flattened_buynowpricesalt2 = [val for sublist in buynowpricessalt2 for val in sublist]\n",
    "#flattened_buynowpricess\n",
    "\n",
    "IDS=[]\n",
    "\n",
    "for i in range(len(soups)):\n",
    "    IDS.append(ID(i))\n",
    "    \n",
    "flattened_IDS = [val for sublist in IDS for val in sublist]\n",
    "#flattened_IDS"
   ]
  },
  {
   "cell_type": "code",
   "execution_count": 13,
   "metadata": {
    "collapsed": false
   },
   "outputs": [],
   "source": [
    "#Create a dataframe to append to.\n",
    "\n",
    "Frame=pd.DataFrame()\n",
    "\n",
    "Frame['Location']=flattened_locations\n",
    "Frame['Item_Name']=flattened_names\n",
    "Frame['BidPrice']=flattened_bidprices\n",
    "Frame['BuyNow_Price']=flattened_buynowprices\n",
    "Frame['Price_Fixer']=flattened_buynowpricesalt\n",
    "Frame['Price_Fixer2']=flattened_buynowpricesalt2\n",
    "Frame['ID']=flattened_IDS"
   ]
  },
  {
   "cell_type": "code",
   "execution_count": 14,
   "metadata": {
    "collapsed": false
   },
   "outputs": [
    {
     "name": "stdout",
     "output_type": "stream",
     "text": [
      "5912\n"
     ]
    }
   ],
   "source": [
    "#Time to filtered\n",
    "\n",
    "#To do: do this froma list, like below. Very unasthetic at the moment.\n",
    "filtered=Frame[Frame.Item_Name.str.contains(\"Screen\") == False]\n",
    "filtered=filtered[filtered.Item_Name.str.contains(\"screen\") == False]\n",
    "filtered=filtered[filtered.Item_Name.str.contains(\"Case\") == False]\n",
    "filtered=filtered[filtered.Item_Name.str.contains(\"case\") == False]\n",
    "filtered=filtered[filtered.Item_Name.str.contains(\"Lense\") == False]\n",
    "filtered=filtered[filtered.Item_Name.str.contains(\"lense\") == False]\n",
    "filtered=filtered[filtered.Item_Name.str.contains(\"Trade\") == False]\n",
    "filtered=filtered[filtered.Item_Name.str.contains(\"trade\") == False]\n",
    "filtered=filtered[filtered.Item_Name.str.contains(\"adapter\") == False]\n",
    "filtered=filtered[filtered.Item_Name.str.contains(\"Adapter\") == False]\n",
    "filtered=filtered[filtered.Item_Name.str.contains(\"Dock\") == False]\n",
    "filtered=filtered[filtered.Item_Name.str.contains(\"dock\") == False]\n",
    "filtered=filtered[filtered.Item_Name.str.contains(\"parts\") == False]\n",
    "filtered=filtered[filtered.Item_Name.str.contains(\"Parts\") == False]\n",
    "\n",
    "print(len(filtered))\n",
    "\n",
    "#List to use if doable in a one liner\n",
    "\n",
    "#to_remove=[\"Screen\",\"screen\",\"Case\",\"case\",\"Lense\",\"lense\",\"Trade\",\"trade\",\n",
    "          #\"adapter\",\"Adapter\",\"Dock\",\"dock\",\"parts\",\"Parts\"]\n",
    "\n",
    "#filtered"
   ]
  },
  {
   "cell_type": "code",
   "execution_count": 15,
   "metadata": {
    "collapsed": false
   },
   "outputs": [],
   "source": [
    "#This is sorting the different prices into correct places.\n",
    "\n",
    "lister=[]\n",
    "\n",
    "for i in range(len(filtered)):\n",
    "    if filtered.iloc[i]['BidPrice']=='BuyNowOnly' and filtered.iloc[i]['BuyNow_Price']=='BidOnly':\n",
    "        lister.append(filtered.iloc[i]['Price_Fixer'])\n",
    "    else:\n",
    "         lister.append(filtered.iloc[i]['BuyNow_Price'])\n",
    "#lister   "
   ]
  },
  {
   "cell_type": "code",
   "execution_count": 16,
   "metadata": {
    "collapsed": false
   },
   "outputs": [],
   "source": [
    "#Furthering this sort. This isn't very pythonic.\n",
    "\n",
    "filtered['BuyNowPrice']=lister\n",
    "filtered\n",
    "\n",
    "lister2=[]\n",
    "\n",
    "for i in range(len(filtered)):\n",
    "    if filtered.iloc[i]['BuyNowPrice']=='NaN':\n",
    "        lister2.append(filtered.iloc[i]['Price_Fixer2'])\n",
    "    else:\n",
    "         lister2.append(filtered.iloc[i]['BuyNowPrice'])\n",
    "            \n",
    "filtered['BuyNowPricee']=lister2\n",
    "#lister   \n",
    "\n",
    "del filtered['BuyNow_Price']\n",
    "del filtered['Price_Fixer']\n",
    "del filtered['BuyNowPrice']\n",
    "del filtered['Price_Fixer2']"
   ]
  },
  {
   "cell_type": "code",
   "execution_count": 17,
   "metadata": {
    "collapsed": false
   },
   "outputs": [
    {
     "data": {
      "text/plain": [
       "'2017+06+02-09+14+55'"
      ]
     },
     "execution_count": 17,
     "metadata": {},
     "output_type": "execute_result"
    }
   ],
   "source": [
    "#For naming the .csv\n",
    "\n",
    "import time\n",
    "timestr = time.strftime(\"%Y+%m+%d-%H+%M+%S\")\n",
    "timestr"
   ]
  },
  {
   "cell_type": "code",
   "execution_count": 20,
   "metadata": {
    "collapsed": false
   },
   "outputs": [],
   "source": [
    "#finalizing. Deleting exepction cases, duplicate rows.\n",
    "\n",
    "filtered=filtered[filtered.BuyNowPricee.str.contains(\"NaN\") == False]\n",
    "\n",
    "path='D:\\\\TradeMe2\\\\'\n",
    "\n",
    "df_obj = filtered2.select_dtypes(['object'])\n",
    "filtered2[df_obj.columns] = df_obj.apply(lambda x: x.str.strip())\n",
    "\n",
    "filtered2.to_csv(path+'filtered_data'+timestr+'.csv', dwdelimiter=',', encoding='utf-8')"
   ]
  },
  {
   "cell_type": "code",
   "execution_count": null,
   "metadata": {
    "collapsed": true
   },
   "outputs": [],
   "source": []
  }
 ],
 "metadata": {
  "anaconda-cloud": {},
  "kernelspec": {
   "display_name": "Python [Root]",
   "language": "python",
   "name": "Python [Root]"
  },
  "language_info": {
   "codemirror_mode": {
    "name": "ipython",
    "version": 3
   },
   "file_extension": ".py",
   "mimetype": "text/x-python",
   "name": "python",
   "nbconvert_exporter": "python",
   "pygments_lexer": "ipython3",
   "version": "3.5.2"
  }
 },
 "nbformat": 4,
 "nbformat_minor": 0
}
