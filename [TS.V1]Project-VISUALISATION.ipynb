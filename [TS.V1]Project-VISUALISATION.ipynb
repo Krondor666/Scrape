{
 "cells": [
  {
   "cell_type": "markdown",
   "metadata": {},
   "source": [
    "# Variation on scrape-search-functions with visualisation in mind."
   ]
  },
  {
   "cell_type": "code",
   "execution_count": 1,
   "metadata": {
    "collapsed": false
   },
   "outputs": [],
   "source": [
    "import numpy as np\n",
    "import pandas as pd"
   ]
  },
  {
   "cell_type": "code",
   "execution_count": 2,
   "metadata": {
    "collapsed": true
   },
   "outputs": [],
   "source": [
    "#import all data from the folder I've made (generated from TS.py)\n",
    "\n",
    "import glob\n",
    "data=[]\n",
    "path = \"D:/TradeMe2/*.csv\"\n",
    "for fname in glob.glob(path):\n",
    "    data.append(pd.read_csv(fname))"
   ]
  },
  {
   "cell_type": "markdown",
   "metadata": {},
   "source": [
    "## I want to only concern myself with buynowprices here as I'm only interested in market prices, rather than prices over time.\n",
    "\n",
    "## Plan is to make a function with two terms (string1, string2) and graph them as a plot \n",
    "\n",
    "\n",
    "### ~~~~~~~~~~~~~~~~~~~~~~~~~~~~~~~~~~~~~~~~~~~~~~~~~~~~~~~~~~~~~~~~~~~~~~~~~~~~~~~~~~~~~~~~~~~~~~~~~~~~~~~~~~~~~~~~~~~~~~~~~~~~~~~~~~~~~~~~~~~~~~~~~~~~~~~~~~~~~~~~~~~~~~~~~~~~~~~~~~~~~~~~~~~~~~~~~~~~~~~~~~~~~~~~~~~~~~~~~~~~~~~~~~~~~~~~~~~~~~~~~~~~~~~~~~~~~~~~~~~~~~~~~~~~~~~~~~~~~~~~~~~~~~~~~~~~~~~~~~~~~~~~~~~~~~~~~~~~~~~~~~~~~~~~~~~~~~~~~~~~~~~~~~~~~~~~~~~~~~~~~~~~~~~~~~~~~~~~~~~~~~~~~~~~~~~~~~~~~~~~~~~~~~~~~~~~~~~~~~~~~~~~~~~~~~~~~~~~~~~~~~~~~~~~~~~~~~~~~~~~~~~~~~~~~~~~~~~~~~~~~~~~~~~~~~~~~~~~~~~~~~~~~~~~~~~~~~~~~~~~~~~~~~~~~~~~~~~~~~~~~~~~~~~~~~~~~~~~~~~~~~~~\n",
    "\n",
    "### 1: Delete rows with bidonly\n",
    "\n",
    "### 2: Make search functions (take from scrape_search_functions.ipynb)\n",
    "\n",
    "### 3: Extract buynowprices from search+group into ranges\n",
    "\n",
    "### 4: Graph "
   ]
  },
  {
   "cell_type": "code",
   "execution_count": 3,
   "metadata": {
    "collapsed": false
   },
   "outputs": [
    {
     "data": {
      "text/html": [
       "<div>\n",
       "<table border=\"1\" class=\"dataframe\">\n",
       "  <thead>\n",
       "    <tr style=\"text-align: right;\">\n",
       "      <th></th>\n",
       "      <th>Location</th>\n",
       "      <th>Item_Name</th>\n",
       "      <th>BidPrice</th>\n",
       "      <th>ID</th>\n",
       "      <th>BuyNowPricee</th>\n",
       "    </tr>\n",
       "  </thead>\n",
       "  <tbody>\n",
       "    <tr>\n",
       "      <th>0</th>\n",
       "      <td>Auckland</td>\n",
       "      <td>ZTE F328 \"Top of Line Basic Compact Model)</td>\n",
       "      <td>$38.00</td>\n",
       "      <td>1330538382\"</td>\n",
       "      <td>38.0</td>\n",
       "    </tr>\n",
       "    <tr>\n",
       "      <th>2</th>\n",
       "      <td>Otago</td>\n",
       "      <td>Sony Xperia M2</td>\n",
       "      <td>$249.00</td>\n",
       "      <td>1330538751\"</td>\n",
       "      <td>270.0</td>\n",
       "    </tr>\n",
       "    <tr>\n",
       "      <th>4</th>\n",
       "      <td>Auckland</td>\n",
       "      <td>Samsung Galaxy S5---Like New Condition</td>\n",
       "      <td>BuyNowOnly</td>\n",
       "      <td>1330548139\"</td>\n",
       "      <td>279.0</td>\n",
       "    </tr>\n",
       "    <tr>\n",
       "      <th>6</th>\n",
       "      <td>Auckland</td>\n",
       "      <td>Immaculate iPhone 6 plus Gold, 64gb</td>\n",
       "      <td>$850.00</td>\n",
       "      <td>1330542627\"</td>\n",
       "      <td>850.0</td>\n",
       "    </tr>\n",
       "    <tr>\n",
       "      <th>7</th>\n",
       "      <td>Wellington</td>\n",
       "      <td>iPhone 5/6/7 iPod Touch 5/6 iPad Charge/Sync C...</td>\n",
       "      <td>BuyNowOnly</td>\n",
       "      <td>1329401580\"</td>\n",
       "      <td>1.0</td>\n",
       "    </tr>\n",
       "  </tbody>\n",
       "</table>\n",
       "</div>"
      ],
      "text/plain": [
       "     Location                                          Item_Name    BidPrice  \\\n",
       "0    Auckland         ZTE F328 \"Top of Line Basic Compact Model)      $38.00   \n",
       "2       Otago                                     Sony Xperia M2     $249.00   \n",
       "4    Auckland             Samsung Galaxy S5---Like New Condition  BuyNowOnly   \n",
       "6    Auckland                Immaculate iPhone 6 plus Gold, 64gb     $850.00   \n",
       "7  Wellington  iPhone 5/6/7 iPod Touch 5/6 iPad Charge/Sync C...  BuyNowOnly   \n",
       "\n",
       "            ID  BuyNowPricee  \n",
       "0  1330538382\"          38.0  \n",
       "2  1330538751\"         270.0  \n",
       "4  1330548139\"         279.0  \n",
       "6  1330542627\"         850.0  \n",
       "7  1329401580\"           1.0  "
      ]
     },
     "execution_count": 3,
     "metadata": {},
     "output_type": "execute_result"
    }
   ],
   "source": [
    "Data=pd.concat(data) #Stack .csvs\n",
    "\n",
    "\n",
    "Data=Data.ix[:,Data.columns!= 'Unnamed: 0'] #delete inbuild index (for uniquifying later)\n",
    "\n",
    "Data = Data[Data.BuyNowPricee != 'BidOnly'] #delete any rows which dont have buynowprice\n",
    "\n",
    "Data[['BuyNowPricee']] = Data[['BuyNowPricee']].replace('[\\$,]','',regex=True).astype(float) #convert currency to integer.\n",
    "\n",
    "Data.head(5)"
   ]
  },
  {
   "cell_type": "code",
   "execution_count": 23,
   "metadata": {
    "collapsed": false
   },
   "outputs": [
    {
     "data": {
      "text/plain": [
       "549.0"
      ]
     },
     "execution_count": 23,
     "metadata": {},
     "output_type": "execute_result"
    }
   ],
   "source": [
    "#Now just import the search function.\n",
    "\n",
    "#part 1:\n",
    "def search(item,data): # probably by index...\n",
    "    df = data.loc[(data.ix[:,'ID'] == item)]\n",
    "    df=df['BuyNowPricee'].tolist()\n",
    "\n",
    "    return(sum(df)//len(df))\n",
    "search('1329808163\"',Data) #This returns average buynowprice for given item/\n"
   ]
  },
  {
   "cell_type": "code",
   "execution_count": 24,
   "metadata": {
    "collapsed": false
   },
   "outputs": [],
   "source": [
    "#part 2:\n",
    "\n",
    "def name(item): \n",
    "    dfbasic = Data.loc[Data['Item_Name'].str.contains(item)]\n",
    "    IDS=dfbasic['ID'].tolist()\n",
    "    IDS2=np.unique(IDS)\n",
    "    \n",
    "    lister=[]\n",
    "    \n",
    "    for i in range(len(IDS2)):\n",
    "        lister.append(search(IDS2[i], dfbasic))\n",
    "    return(np.array(sorted(lister)))\n",
    "#name('iPhone')"
   ]
  },
  {
   "cell_type": "code",
   "execution_count": 37,
   "metadata": {
    "collapsed": false
   },
   "outputs": [],
   "source": [
    "import seaborn as sns\n",
    "import scipy\n",
    "from scipy import stats, integrate\n",
    "import matplotlib.pyplot as plt\n",
    "np.random.seed(sum(map(ord, \"distributions\")))\n",
    "\n",
    "#many features of Seaborn missing. Related to statmodels: can't draw kernals."
   ]
  },
  {
   "cell_type": "code",
   "execution_count": 66,
   "metadata": {
    "collapsed": false
   },
   "outputs": [
    {
     "data": {
      "text/plain": [
       "<matplotlib.axes._subplots.AxesSubplot at 0x3208e7b550>"
      ]
     },
     "execution_count": 66,
     "metadata": {},
     "output_type": "execute_result"
    },
    {
     "data": {
      "image/png": "[encoded data removed]",
      "text/plain": [
       "<matplotlib.figure.Figure at 0x3201959b38>"
      ]
     },
     "metadata": {},
     "output_type": "display_data"
    }
   ],
   "source": [
    "%matplotlib inline\n",
    "\n",
    "\n",
    "def grapher(key):\n",
    "    a=sns.distplot(name(key), kde=False, fit=stats.gamma, color='green', label=key)\n",
    "    return(a)\n",
    "\n",
    "grapher('iPhone')"
   ]
  },
  {
   "cell_type": "code",
   "execution_count": null,
   "metadata": {
    "collapsed": true
   },
   "outputs": [],
   "source": []
  }
 ],
 "metadata": {
  "kernelspec": {
   "display_name": "Python [Root]",
   "language": "python",
   "name": "Python [Root]"
  },
  "language_info": {
   "codemirror_mode": {
    "name": "ipython",
    "version": 3
   },
   "file_extension": ".py",
   "mimetype": "text/x-python",
   "name": "python",
   "nbconvert_exporter": "python",
   "pygments_lexer": "ipython3",
   "version": "3.5.2"
  }
 },
 "nbformat": 4,
 "nbformat_minor": 0
}
