{
 "cells": [
  {
   "cell_type": "code",
   "execution_count": 1,
   "metadata": {
    "collapsed": false
   },
   "outputs": [],
   "source": [
    "#Import required packages.\n",
    "\n",
    "import urllib  \n",
    "import urllib.request\n",
    "from bs4 import BeautifulSoup\n",
    "import pandas as pd\n",
    "import numpy as np\n",
    "import re"
   ]
  },
  {
   "cell_type": "code",
   "execution_count": 2,
   "metadata": {
    "collapsed": false
   },
   "outputs": [],
   "source": [
    "#Setting up parser preliminiaries.\n",
    "\n",
    "opener=urllib.request.build_opener()\n",
    "opener.addheaders=[('User-Agent', 'Google Chrome/57.0.2987.133')]\n",
    "\n",
    "url=('http://www.trademe.co.nz')\n",
    "ourURL=opener.open(url).read()"
   ]
  },
  {
   "cell_type": "code",
   "execution_count": 3,
   "metadata": {
    "collapsed": true
   },
   "outputs": [],
   "source": [
    "def urlmaker(page):\n",
    "    return('http://www.trademe.co.nz/browse/categorylistings.aspx?condition=all&mcatpath=mobile-phones%2fmobile-phones&page='\n",
    "           +str(page))\n",
    "urlmaker(0)\n",
    "\n",
    "\n",
    "def soupify(page):\n",
    "    return(BeautifulSoup(opener.open(urlmaker(page)).read(),\"lxml\") )"
   ]
  },
  {
   "cell_type": "code",
   "execution_count": 4,
   "metadata": {
    "collapsed": false
   },
   "outputs": [
    {
     "name": "stdout",
     "output_type": "stream",
     "text": [
      "--- 59.3886981010437 seconds ---\n"
     ]
    }
   ],
   "source": [
    "import time\n",
    "start_time = time.time()\n",
    "\n",
    "\n",
    "soups=[]\n",
    "\n",
    "for i in range(0,45): #try make this the limit.\n",
    "        soups.append(soupify(i))\n",
    "\n",
    "print(\"--- %s seconds ---\" % (time.time() - start_time))        "
   ]
  },
  {
   "cell_type": "code",
   "execution_count": 5,
   "metadata": {
    "collapsed": true
   },
   "outputs": [],
   "source": [
    "def item(page):\n",
    "    p=soups[page].findAll('a', {'class':re.compile(\"tile\")})\n",
    "    paragraphs=[]\n",
    "    \n",
    "    for x in p:\n",
    "        paragraphs.append(str(x))\n",
    "    for i in range(len(paragraphs)):  \n",
    "        paragraphs[i]=\" \".join(paragraphs[i].split())\n",
    "    return(paragraphs)"
   ]
  },
  {
   "cell_type": "code",
   "execution_count": 6,
   "metadata": {
    "collapsed": true
   },
   "outputs": [],
   "source": [
    "items=[]\n",
    "for j in range(len(soups)):\n",
    "        items.append(item(j))\n",
    "     "
   ]
  },
  {
   "cell_type": "code",
   "execution_count": 7,
   "metadata": {
    "collapsed": false
   },
   "outputs": [],
   "source": [
    "def ID(page):\n",
    "    liste=[]\n",
    "    for i in range(len(items[page])):\n",
    "        liste.append(re.search('<div class=\"watchlist \" id=\"watchlist(.+?)\" onclick', \n",
    "                               items[page][i]).group(1))  \n",
    "    return(liste)"
   ]
  },
  {
   "cell_type": "code",
   "execution_count": 8,
   "metadata": {
    "collapsed": false
   },
   "outputs": [],
   "source": [
    "IDS=[]\n",
    "\n",
    "for i in range(len(soups)):\n",
    "    IDS.append(ID(i))\n",
    "    \n",
    "flattened_IDS = [val for sublist in IDS for val in sublist]"
   ]
  },
  {
   "cell_type": "code",
   "execution_count": 9,
   "metadata": {
    "collapsed": false
   },
   "outputs": [],
   "source": [
    "Id=np.unique(flattened_IDS).tolist()"
   ]
  },
  {
   "cell_type": "code",
   "execution_count": 10,
   "metadata": {
    "collapsed": false
   },
   "outputs": [],
   "source": [
    "def urlmaker2(ID):\n",
    "    return('http://www.trademe.co.nz/mobile-phones/mobile-phones/auction-'+ID+'.htm')"
   ]
  },
  {
   "cell_type": "code",
   "execution_count": 11,
   "metadata": {
    "collapsed": false
   },
   "outputs": [],
   "source": [
    "def soupify2(ID):\n",
    "    return(BeautifulSoup(opener.open(urlmaker2(ID)).read(),\"lxml\") )\n",
    "#soupify2(Id[1])\n",
    "\n",
    "#Returns .html file for a given page."
   ]
  },
  {
   "cell_type": "code",
   "execution_count": 12,
   "metadata": {
    "collapsed": false
   },
   "outputs": [
    {
     "name": "stdout",
     "output_type": "stream",
     "text": [
      "--- 1137.0312821865082 seconds ---\n"
     ]
    }
   ],
   "source": [
    "import time\n",
    "start_time = time.time()\n",
    "soups2=[]\n",
    "\n",
    "for i in range(len(Id)):\n",
    "    soups2.append(soupify2(Id[i]))\n",
    "    \n",
    "print(\"--- %s seconds ---\" % (time.time() - start_time))"
   ]
  },
  {
   "cell_type": "code",
   "execution_count": 13,
   "metadata": {
    "collapsed": false
   },
   "outputs": [],
   "source": [
    "for i in range(len(soups2)):\n",
    "    soups2[i]=str(soups2[i])"
   ]
  },
  {
   "cell_type": "code",
   "execution_count": 14,
   "metadata": {
    "collapsed": false
   },
   "outputs": [],
   "source": [
    "for i in range(len(soups2)):  \n",
    "        soups2[i]=\" \".join(soups2[i].split())"
   ]
  },
  {
   "cell_type": "code",
   "execution_count": 15,
   "metadata": {
    "collapsed": false
   },
   "outputs": [],
   "source": [
    "PhoneNames=[]\n",
    "for i in range(len(soups2)):\n",
    "    PhoneNames.append(re.search('<title>(.+?)Trade Me</title>', \n",
    "                               soups2[i]).group(1))\n",
    "PhoneNames = [x[:-3] for x in PhoneNames]\n"
   ]
  },
  {
   "cell_type": "code",
   "execution_count": 16,
   "metadata": {
    "collapsed": false
   },
   "outputs": [],
   "source": [
    "Region=[]\n",
    "for i in range(len(soups2)):\n",
    "    Region.append(re.search('\"sellerRegion\": \"(.+?)\", \"', \n",
    "                               soups2[i]).group(1))"
   ]
  },
  {
   "cell_type": "code",
   "execution_count": 17,
   "metadata": {
    "collapsed": false
   },
   "outputs": [],
   "source": [
    "City=[]\n",
    "for i in range(len(soups2)):\n",
    "    City.append(re.search('\"sellerDistrict\": \"(.+?)\", \"', \n",
    "                               soups2[i]).group(1))"
   ]
  },
  {
   "cell_type": "code",
   "execution_count": 18,
   "metadata": {
    "collapsed": false
   },
   "outputs": [],
   "source": [
    "Brand=[]\n",
    "for i in range(len(soups2)):\n",
    "    Brand.append(re.search('\"categoryLevel3\": \"(.+?)\",', \n",
    "                               soups2[i]).group(1))"
   ]
  },
  {
   "cell_type": "code",
   "execution_count": 19,
   "metadata": {
    "collapsed": false
   },
   "outputs": [],
   "source": [
    "Type=[]  #Not all listings have this, so added 'try, except' logic.\n",
    "for i in range(len(soups2)):\n",
    "    try:\n",
    "        Type.append(re.search('\"categoryLevel4\": \"(.+?)\",', \n",
    "                                   soups2[i]).group(1))\n",
    "    except:\n",
    "        Type.append('Other')"
   ]
  },
  {
   "cell_type": "code",
   "execution_count": 20,
   "metadata": {
    "collapsed": false
   },
   "outputs": [],
   "source": [
    "SellerFeedBack=[]  #Not all listings have this, so added 'try, except' logic.\n",
    "for i in range(len(soups2)):\n",
    "    try:\n",
    "        SellerFeedBack.append(re.search('<span id=\"SellerProfile_PercentPositiveFeedback\">(.+?)</span>', \n",
    "                                   soups2[i]).group(1) +'%')\n",
    "    except:\n",
    "        SellerFeedBack.append('None')"
   ]
  },
  {
   "cell_type": "code",
   "execution_count": 21,
   "metadata": {
    "collapsed": false
   },
   "outputs": [],
   "source": [
    "SellerName=[]  #Not all listings have this, so added 'try, except' logic.\n",
    "for i in range(len(soups2)):\n",
    "    \n",
    "        if len(re.search('\"SellerProfile_MemberNicknameLink\">(.+?)</a>', \n",
    "                                   soups2[i]).group(1))!=0:\n",
    "                SellerName.append(re.search('\"SellerProfile_MemberNicknameLink\">(.+?)</a>', \n",
    "                                   soups2[i]).group(1))\n",
    "        else:\n",
    "            SellerName.append('holder')\n"
   ]
  },
  {
   "cell_type": "code",
   "execution_count": 22,
   "metadata": {
    "collapsed": false
   },
   "outputs": [],
   "source": [
    "ClosingTime=[]  #Not all listings have this, so added 'try, except' logic.\n",
    "some_list=['0','1','2','3','4','5','6','7','8','9']\n",
    "for i in range(len(soups2)):\n",
    "    stringe=re.search('id=\"ClosingTime_ClosingTime\">(.+?)</span>',\n",
    "                      soups2[i]).group(1)[1]\n",
    "    matching = [s for s in some_list if stringe in s]\n",
    "    if len(matching)==0:\n",
    "        ClosingTime.append(re.search('id=\"ClosingTime_TimeLeft\">(.+?)</span>',\n",
    "                      soups2[i]).group(1))\n",
    "    elif len(matching)!=0:\n",
    "        ClosingTime.append(re.search('id=\"ClosingTime_ClosingTime\">(.+?)</span>',\n",
    "                      soups2[i]).group(1))\n",
    "#ClosingTime"
   ]
  },
  {
   "cell_type": "code",
   "execution_count": 23,
   "metadata": {
    "collapsed": false
   },
   "outputs": [],
   "source": [
    "ClosingDate=[]  #Not all listings have this, so added 'try, except' logic.\n",
    "some_list=['0','1','2','3','4','5','6','7','8','9']\n",
    "for i in range(len(soups2)):\n",
    "    stringe=re.search('id=\"ClosingTime_ClosingTime\">(.+?)</span>',\n",
    "                      soups2[i]).group(1)[1]\n",
    "    matching = [s for s in some_list if stringe in s]\n",
    "    if len(matching)!=0:\n",
    "        ClosingDate.append(re.search('id=\"ClosingTime_TimeLeft\">(.+?)</span>',\n",
    "                      soups2[i]).group(1))\n",
    "    elif len(matching)==0:\n",
    "        ClosingDate.append(re.search('id=\"ClosingTime_ClosingTime\">(.+?)</span>',\n",
    "                      soups2[i]).group(1))\n",
    "#ClosingDate"
   ]
  },
  {
   "cell_type": "code",
   "execution_count": 24,
   "metadata": {
    "collapsed": false
   },
   "outputs": [],
   "source": [
    "NumberBids=[]  #Not all listings have this, so added 'try, except' logic.\n",
    "for i in range(len(soups2)):\n",
    "    try:\n",
    "        meep=(re.search('id=\"Bidding_TotalBids\">(.+?)<div class=\"reserve-status', \n",
    "                                   soups2[i]).group(1))\n",
    "        if len(meep)==7:\n",
    "            NumberBids.append('0')\n",
    "        elif len(meep)!=7:\n",
    "            NumberBids.append( re.search('id=\"Bidding_TotalBids\">Total Bids: <strong>(.+?)</strong>',\n",
    "                                         soups2[i]).group(1))\n",
    "    except:\n",
    "        NumberBids.append('Buy Now Only')"
   ]
  },
  {
   "cell_type": "code",
   "execution_count": 25,
   "metadata": {
    "collapsed": false
   },
   "outputs": [],
   "source": [
    "BuyNowPrice=[]\n",
    "for i in range(len(soups2)):\n",
    "    meep=(re.search('\"buyNowPrice\": (.+?), \"mustPickUp\":', \n",
    "                                   soups2[i]).group(1))\n",
    "    if meep=='0.0':\n",
    "        BuyNowPrice.append('Bid Only')\n",
    "    elif len(meep)==0:\n",
    "            BuyNowPrice.append('holder')\n",
    "    else:\n",
    "        BuyNowPrice.append('$'+meep)"
   ]
  },
  {
   "cell_type": "code",
   "execution_count": 26,
   "metadata": {
    "collapsed": false
   },
   "outputs": [],
   "source": [
    "BidPrice=[]\n",
    "\n",
    "for i in range(len(soups2)):\n",
    "    \n",
    "    try:\n",
    "        BidPrice.append(re.search('id=\"Bidding_CurrentBidValue\">(.+?)</div>', \n",
    "                                   soups2[i]).group(1))\n",
    "    except:\n",
    "        BidPrice.append('Buy Now Only')"
   ]
  },
  {
   "cell_type": "code",
   "execution_count": 70,
   "metadata": {
    "collapsed": false
   },
   "outputs": [],
   "source": [
    "Reserve=[]\n",
    "\n",
    "for i in range(len(soups2)):\n",
    "    try:\n",
    "        Reserve.append(re.search('id=\"Bidding_ReserveLabel\">(.+?)</div>', \n",
    "                                   soups2[i]).group(1))\n",
    "    except:\n",
    "        Reserve.append('No Reserve')"
   ]
  },
  {
   "cell_type": "code",
   "execution_count": 64,
   "metadata": {
    "collapsed": false
   },
   "outputs": [],
   "source": [
    "df=pd.DataFrame()\n",
    "\n",
    "df['Phone Name']=PhoneNames\n",
    "df['Brand']=Brand\n",
    "df['Type']=Type\n",
    "df['Buynow Price']=BuyNowPrice\n",
    "df['Bid Price']=BidPrice\n",
    "df['Reserve Status']=Reserve\n",
    "df['Number of Bids']=NumberBids\n",
    "df['Closing Time']=ClosingTime\n",
    "df['Closing Date']=ClosingDate\n",
    "df['Region']=Region\n",
    "df['City']=City\n",
    "df['Seller Feedback']=SellerFeedBack\n",
    "df['Seller Name']=SellerName"
   ]
  },
  {
   "cell_type": "code",
   "execution_count": 65,
   "metadata": {
    "collapsed": false
   },
   "outputs": [
    {
     "data": {
      "text/plain": [
       "'2017+06+30-10+22+26'"
      ]
     },
     "execution_count": 65,
     "metadata": {},
     "output_type": "execute_result"
    }
   ],
   "source": [
    "import time\n",
    "timestr = time.strftime(\"%Y+%m+%d-%H+%M+%S\")\n",
    "timestr"
   ]
  },
  {
   "cell_type": "code",
   "execution_count": 66,
   "metadata": {
    "collapsed": false
   },
   "outputs": [],
   "source": [
    "path='D:\\\\TradeMe2\\\\'\n",
    "df.to_csv(path+'SCRAPENEW'+timestr+'.csv', dwdelimiter=',', encoding='utf-8')"
   ]
  },
  {
   "cell_type": "markdown",
   "metadata": {},
   "source": [
    "## To do: delete rows with non-mobile items (incorrectly listed)."
   ]
  },
  {
   "cell_type": "code",
   "execution_count": null,
   "metadata": {
    "collapsed": true
   },
   "outputs": [],
   "source": []
  }
 ],
 "metadata": {
  "anaconda-cloud": {},
  "kernelspec": {
   "display_name": "Python [Root]",
   "language": "python",
   "name": "Python [Root]"
  },
  "language_info": {
   "codemirror_mode": {
    "name": "ipython",
    "version": 3
   },
   "file_extension": ".py",
   "mimetype": "text/x-python",
   "name": "python",
   "nbconvert_exporter": "python",
   "pygments_lexer": "ipython3",
   "version": "3.5.2"
  }
 },
 "nbformat": 4,
 "nbformat_minor": 0
}
