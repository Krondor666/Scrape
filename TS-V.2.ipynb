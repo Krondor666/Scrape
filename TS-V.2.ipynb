{
 "cells": [
  {
   "cell_type": "code",
   "execution_count": 1,
   "metadata": {
    "collapsed": false
   },
   "outputs": [],
   "source": [
    "#Import required packages.\n",
    "\n",
    "import urllib  \n",
    "import urllib.request\n",
    "from bs4 import BeautifulSoup\n",
    "import pandas as pd\n",
    "import numpy as np\n",
    "import re"
   ]
  },
  {
   "cell_type": "code",
   "execution_count": 2,
   "metadata": {
    "collapsed": false
   },
   "outputs": [],
   "source": [
    "#Setting up parser preliminiaries.\n",
    "\n",
    "opener=urllib.request.build_opener()\n",
    "opener.addheaders=[('User-Agent', 'Google Chrome/57.0.2987.133')]\n",
    "\n",
    "url=('http://www.trademe.co.nz')\n",
    "ourURL=opener.open(url).read()"
   ]
  },
  {
   "cell_type": "code",
   "execution_count": 3,
   "metadata": {
    "collapsed": true
   },
   "outputs": [],
   "source": [
    "def urlmaker(page):\n",
    "    return('http://www.trademe.co.nz/browse/categorylistings.aspx?condition=all&mcatpath=mobile-phones%2fmobile-phones&page='\n",
    "           +str(page))\n",
    "urlmaker(0)\n",
    "\n",
    "\n",
    "def soupify(page):\n",
    "    return(BeautifulSoup(opener.open(urlmaker(page)).read(),\"lxml\") )"
   ]
  },
  {
   "cell_type": "code",
   "execution_count": 4,
   "metadata": {
    "collapsed": false
   },
   "outputs": [
    {
     "name": "stdout",
     "output_type": "stream",
     "text": [
      "--- 63.67928981781006 seconds ---\n"
     ]
    }
   ],
   "source": [
    "import time\n",
    "start_time = time.time()\n",
    "\n",
    "\n",
    "soups=[]\n",
    "\n",
    "for i in range(0,45): #try make this the limit.\n",
    "        soups.append(soupify(i))\n",
    "\n",
    "print(\"--- %s seconds ---\" % (time.time() - start_time))        "
   ]
  },
  {
   "cell_type": "code",
   "execution_count": 5,
   "metadata": {
    "collapsed": true
   },
   "outputs": [],
   "source": [
    "def item(page):\n",
    "    p=soups[page].findAll('a', {'class':re.compile(\"tile\")})\n",
    "    paragraphs=[]\n",
    "    \n",
    "    for x in p:\n",
    "        paragraphs.append(str(x))\n",
    "    for i in range(len(paragraphs)):  \n",
    "        paragraphs[i]=\" \".join(paragraphs[i].split())\n",
    "    return(paragraphs)"
   ]
  },
  {
   "cell_type": "code",
   "execution_count": 6,
   "metadata": {
    "collapsed": true
   },
   "outputs": [],
   "source": [
    "items=[]\n",
    "for j in range(len(soups)):\n",
    "        items.append(item(j))\n",
    "     "
   ]
  },
  {
   "cell_type": "code",
   "execution_count": 7,
   "metadata": {
    "collapsed": false
   },
   "outputs": [],
   "source": [
    "def ID(page):\n",
    "    liste=[]\n",
    "    for i in range(len(items[page])):\n",
    "        liste.append(re.search('<div class=\"watchlist \" id=\"watchlist(.+?)\" onclick', \n",
    "                               items[page][i]).group(1))  \n",
    "    return(liste)"
   ]
  },
  {
   "cell_type": "code",
   "execution_count": 8,
   "metadata": {
    "collapsed": false
   },
   "outputs": [],
   "source": [
    "IDS=[]\n",
    "\n",
    "for i in range(len(soups)):\n",
    "    IDS.append(ID(i))\n",
    "    \n",
    "flattened_IDS = [val for sublist in IDS for val in sublist]"
   ]
  },
  {
   "cell_type": "code",
   "execution_count": 9,
   "metadata": {
    "collapsed": false
   },
   "outputs": [],
   "source": [
    "Id=np.unique(flattened_IDS).tolist()"
   ]
  },
  {
   "cell_type": "code",
   "execution_count": 10,
   "metadata": {
    "collapsed": false
   },
   "outputs": [],
   "source": [
    "def urlmaker2(ID):\n",
    "    return('http://www.trademe.co.nz/mobile-phones/mobile-phones/auction-'+ID+'.htm')"
   ]
  },
  {
   "cell_type": "code",
   "execution_count": 11,
   "metadata": {
    "collapsed": false
   },
   "outputs": [],
   "source": [
    "def soupify2(ID):\n",
    "    return(BeautifulSoup(opener.open(urlmaker2(ID)).read(),\"lxml\") )\n",
    "#soupify2(Id[1])\n",
    "\n",
    "#Returns .html file for a given page."
   ]
  },
  {
   "cell_type": "code",
   "execution_count": 12,
   "metadata": {
    "collapsed": false
   },
   "outputs": [
    {
     "name": "stdout",
     "output_type": "stream",
     "text": [
      "--- 1109.031227350235 seconds ---\n"
     ]
    }
   ],
   "source": [
    "import time\n",
    "start_time = time.time()\n",
    "soups2=[]\n",
    "\n",
    "for i in range(len(Id)):\n",
    "    soups2.append(soupify2(Id[i]))\n",
    "    \n",
    "print(\"--- %s seconds ---\" % (time.time() - start_time))"
   ]
  },
  {
   "cell_type": "code",
   "execution_count": 13,
   "metadata": {
    "collapsed": false
   },
   "outputs": [],
   "source": [
    "for i in range(len(soups2)):\n",
    "    soups2[i]=str(soups2[i])"
   ]
  },
  {
   "cell_type": "code",
   "execution_count": 14,
   "metadata": {
    "collapsed": false
   },
   "outputs": [],
   "source": [
    "for i in range(len(soups2)):  \n",
    "        soups2[i]=\" \".join(soups2[i].split())"
   ]
  },
  {
   "cell_type": "code",
   "execution_count": 15,
   "metadata": {
    "collapsed": false
   },
   "outputs": [],
   "source": [
    "PhoneNames=[]\n",
    "for i in range(len(soups2)):\n",
    "    PhoneNames.append(re.search('<title>(.+?)Trade Me</title>', \n",
    "                               soups2[i]).group(1))\n",
    "PhoneNames = [x[:-3] for x in PhoneNames]\n"
   ]
  },
  {
   "cell_type": "code",
   "execution_count": 16,
   "metadata": {
    "collapsed": false
   },
   "outputs": [],
   "source": [
    "Region=[]\n",
    "for i in range(len(soups2)):\n",
    "    Region.append(re.search('\"sellerRegion\": \"(.+?)\", \"', \n",
    "                               soups2[i]).group(1))"
   ]
  },
  {
   "cell_type": "code",
   "execution_count": 17,
   "metadata": {
    "collapsed": false
   },
   "outputs": [],
   "source": [
    "City=[]\n",
    "for i in range(len(soups2)):\n",
    "    City.append(re.search('\"sellerDistrict\": \"(.+?)\", \"', \n",
    "                               soups2[i]).group(1))"
   ]
  },
  {
   "cell_type": "code",
   "execution_count": 18,
   "metadata": {
    "collapsed": false
   },
   "outputs": [],
   "source": [
    "Brand=[]\n",
    "for i in range(len(soups2)):\n",
    "    Brand.append(re.search('\"categoryLevel3\": \"(.+?)\",', \n",
    "                               soups2[i]).group(1))"
   ]
  },
  {
   "cell_type": "code",
   "execution_count": 19,
   "metadata": {
    "collapsed": false
   },
   "outputs": [],
   "source": [
    "Type=[]  #Not all listings have this, so added 'try, except' logic.\n",
    "for i in range(len(soups2)):\n",
    "    try:\n",
    "        Type.append(re.search('\"categoryLevel4\": \"(.+?)\",', \n",
    "                                   soups2[i]).group(1))\n",
    "    except:\n",
    "        Type.append('Other')"
   ]
  },
  {
   "cell_type": "code",
   "execution_count": 20,
   "metadata": {
    "collapsed": false
   },
   "outputs": [],
   "source": [
    "SellerFeedBack=[]  #Not all listings have this, so added 'try, except' logic.\n",
    "for i in range(len(soups2)):\n",
    "    try:\n",
    "        SellerFeedBack.append(re.search('<span id=\"SellerProfile_PercentPositiveFeedback\">(.+?)</span>', \n",
    "                                   soups2[i]).group(1) +'%')\n",
    "    except:\n",
    "        SellerFeedBack.append('None')"
   ]
  },
  {
   "cell_type": "code",
   "execution_count": 223,
   "metadata": {
    "collapsed": false
   },
   "outputs": [],
   "source": [
    "SellerName=[]  #Not all listings have this, so added 'try, except' logic.\n",
    "for i in range(len(soups2)):\n",
    "    \n",
    "        if len(re.search('\"SellerProfile_MemberNicknameLink\">(.+?)</a>', \n",
    "                                   soups2[i]).group(1))!=0:\n",
    "                SellerName.append(re.search('\"SellerProfile_MemberNicknameLink\">(.+?)</a>', \n",
    "                                   soups2[i]).group(1))\n",
    "        else:\n",
    "            SellerName.append('holder')\n"
   ]
  },
  {
   "cell_type": "code",
   "execution_count": 102,
   "metadata": {
    "collapsed": false
   },
   "outputs": [],
   "source": [
    "ClosingTime=[]  #Not all listings have this, so added 'try, except' logic.\n",
    "some_list=['0','1','2','3','4','5','6','7','8','9']\n",
    "for i in range(len(soups2)):\n",
    "    stringe=re.search('id=\"ClosingTime_ClosingTime\">(.+?)</span>',\n",
    "                      soups2[i]).group(1)[1]\n",
    "    matching = [s for s in some_list if stringe in s]\n",
    "    if len(matching)==0:\n",
    "        ClosingTime.append(re.search('id=\"ClosingTime_TimeLeft\">(.+?)</span>',\n",
    "                      soups2[i]).group(1))\n",
    "    elif len(matching)!=0:\n",
    "        ClosingTime.append(re.search('id=\"ClosingTime_ClosingTime\">(.+?)</span>',\n",
    "                      soups2[i]).group(1))\n",
    "#ClosingTime"
   ]
  },
  {
   "cell_type": "code",
   "execution_count": 104,
   "metadata": {
    "collapsed": false
   },
   "outputs": [],
   "source": [
    "ClosingDate=[]  #Not all listings have this, so added 'try, except' logic.\n",
    "some_list=['0','1','2','3','4','5','6','7','8','9']\n",
    "for i in range(len(soups2)):\n",
    "    stringe=re.search('id=\"ClosingTime_ClosingTime\">(.+?)</span>',\n",
    "                      soups2[i]).group(1)[1]\n",
    "    matching = [s for s in some_list if stringe in s]\n",
    "    if len(matching)!=0:\n",
    "        ClosingDate.append(re.search('id=\"ClosingTime_TimeLeft\">(.+?)</span>',\n",
    "                      soups2[i]).group(1))\n",
    "    elif len(matching)==0:\n",
    "        ClosingDate.append(re.search('id=\"ClosingTime_ClosingTime\">(.+?)</span>',\n",
    "                      soups2[i]).group(1))\n",
    "#ClosingDate"
   ]
  },
  {
   "cell_type": "code",
   "execution_count": 144,
   "metadata": {
    "collapsed": false
   },
   "outputs": [],
   "source": [
    "NumberBids=[]  #Not all listings have this, so added 'try, except' logic.\n",
    "for i in range(len(soups2)):\n",
    "    try:\n",
    "        meep=(re.search('id=\"Bidding_TotalBids\">(.+?)<div class=\"reserve-status', \n",
    "                                   soups2[i]).group(1))\n",
    "        if len(meep)==7:\n",
    "            NumberBids.append('0')\n",
    "        elif len(meep)!=7:\n",
    "            NumberBids.append( re.search('id=\"Bidding_TotalBids\">Total Bids: <strong>(.+?)</strong>',\n",
    "                                         soups2[i]).group(1))\n",
    "    except:\n",
    "        NumberBids.append('Buy Now Only')"
   ]
  },
  {
   "cell_type": "code",
   "execution_count": 218,
   "metadata": {
    "collapsed": false
   },
   "outputs": [],
   "source": [
    "BuyNowPrice=[]\n",
    "for i in range(len(soups2)):\n",
    "    meep=(re.search('\"buyNowPrice\": (.+?), \"mustPickUp\":', \n",
    "                                   soups2[i]).group(1))\n",
    "    if meep=='0.0':\n",
    "        BuyNowPrice.append('Bid Only')\n",
    "    elif len(meep)==0:\n",
    "            BuyNowPrice.append('holder')\n",
    "    else:\n",
    "        BuyNowPrice.append('$'+meep)"
   ]
  },
  {
   "cell_type": "code",
   "execution_count": 219,
   "metadata": {
    "collapsed": false
   },
   "outputs": [],
   "source": [
    "BidPrice=[]\n",
    "\n",
    "for i in range(len(soups2)):\n",
    "    \n",
    "    try:\n",
    "        BidPrice.append(re.search('id=\"Bidding_CurrentBidValue\">(.+?)</div>', \n",
    "                                   soups2[i]).group(1))\n",
    "    except:\n",
    "        BidPrice.append('Buy Now Only')"
   ]
  },
  {
   "cell_type": "code",
   "execution_count": 232,
   "metadata": {
    "collapsed": false
   },
   "outputs": [
    {
     "data": {
      "text/html": [
       "<div>\n",
       "<table border=\"1\" class=\"dataframe\">\n",
       "  <thead>\n",
       "    <tr style=\"text-align: right;\">\n",
       "      <th></th>\n",
       "      <th>Phone Name</th>\n",
       "      <th>Brand</th>\n",
       "      <th>Type</th>\n",
       "      <th>Buynow Price</th>\n",
       "      <th>Bid Price</th>\n",
       "      <th>Number of Bids</th>\n",
       "      <th>Closing Time</th>\n",
       "      <th>Closing Date</th>\n",
       "      <th>Region</th>\n",
       "      <th>City</th>\n",
       "      <th>Seller Feedback</th>\n",
       "      <th>Seller Name</th>\n",
       "    </tr>\n",
       "  </thead>\n",
       "  <tbody>\n",
       "    <tr>\n",
       "      <th>0</th>\n",
       "      <td>iphone 6 64GB Gold Mint Condition+12 Month Wty</td>\n",
       "      <td>iphone</td>\n",
       "      <td>iphone-6</td>\n",
       "      <td>$599.00</td>\n",
       "      <td>$599.00</td>\n",
       "      <td>0</td>\n",
       "      <td>49 mins</td>\n",
       "      <td>Thu 29 Jun, 2:10 pm</td>\n",
       "      <td>Auckland</td>\n",
       "      <td>Auckland City</td>\n",
       "      <td>98.9%</td>\n",
       "      <td>future.tech</td>\n",
       "    </tr>\n",
       "    <tr>\n",
       "      <th>1</th>\n",
       "      <td>Refurbished Mint Samsung S5 White 4G 16GB 6mon...</td>\n",
       "      <td>samsung</td>\n",
       "      <td>galaxy-s5</td>\n",
       "      <td>$379.00</td>\n",
       "      <td>$379.00</td>\n",
       "      <td>0</td>\n",
       "      <td>49 mins</td>\n",
       "      <td>Thu 29 Jun, 2:10 pm</td>\n",
       "      <td>Auckland</td>\n",
       "      <td>Auckland City</td>\n",
       "      <td>98.9%</td>\n",
       "      <td>future.tech</td>\n",
       "    </tr>\n",
       "    <tr>\n",
       "      <th>2</th>\n",
       "      <td>Iphone 5S 32GB Gold Mint Condition Freeship+6 ...</td>\n",
       "      <td>iphone</td>\n",
       "      <td>iphone-5s</td>\n",
       "      <td>$399.00</td>\n",
       "      <td>$399.00</td>\n",
       "      <td>0</td>\n",
       "      <td>53 mins</td>\n",
       "      <td>Thu 29 Jun, 2:14 pm</td>\n",
       "      <td>Auckland</td>\n",
       "      <td>Auckland City</td>\n",
       "      <td>98.9%</td>\n",
       "      <td>future.tech</td>\n",
       "    </tr>\n",
       "    <tr>\n",
       "      <th>3</th>\n",
       "      <td>IPhone 6S Plus 128GB Gold Refurbished</td>\n",
       "      <td>iphone</td>\n",
       "      <td>iphone-6s-plus</td>\n",
       "      <td>$929.00</td>\n",
       "      <td>$929.00</td>\n",
       "      <td>0</td>\n",
       "      <td>1 hr 9 mins</td>\n",
       "      <td>Thu 29 Jun, 2:30 pm</td>\n",
       "      <td>Auckland</td>\n",
       "      <td>Auckland City</td>\n",
       "      <td>98.9%</td>\n",
       "      <td>future.tech</td>\n",
       "    </tr>\n",
       "    <tr>\n",
       "      <th>4</th>\n",
       "      <td>Samsung Note 3 N9005 32GB Black Mint Condition...</td>\n",
       "      <td>samsung</td>\n",
       "      <td>galaxy-note</td>\n",
       "      <td>$349.00</td>\n",
       "      <td>$349.00</td>\n",
       "      <td>0</td>\n",
       "      <td>1 hr 19 mins</td>\n",
       "      <td>Thu 29 Jun, 2:40 pm</td>\n",
       "      <td>Auckland</td>\n",
       "      <td>Auckland City</td>\n",
       "      <td>98.9%</td>\n",
       "      <td>future.tech</td>\n",
       "    </tr>\n",
       "    <tr>\n",
       "      <th>5</th>\n",
       "      <td>iphone 6 Plus 64GB Gold Mint Condition+12 Mth Wty</td>\n",
       "      <td>iphone</td>\n",
       "      <td>iphone-6-plus</td>\n",
       "      <td>$699.00</td>\n",
       "      <td>$699.00</td>\n",
       "      <td>0</td>\n",
       "      <td>2 hrs 9 mins</td>\n",
       "      <td>Thu 29 Jun, 3:30 pm</td>\n",
       "      <td>Auckland</td>\n",
       "      <td>Auckland City</td>\n",
       "      <td>98.9%</td>\n",
       "      <td>future.tech</td>\n",
       "    </tr>\n",
       "    <tr>\n",
       "      <th>6</th>\n",
       "      <td>iphone 5 64gb iphone 5 64G Black 1 year warranty</td>\n",
       "      <td>iphone</td>\n",
       "      <td>iphone-5</td>\n",
       "      <td>$339.00</td>\n",
       "      <td>$339.00</td>\n",
       "      <td>0</td>\n",
       "      <td>2 hrs 20 mins</td>\n",
       "      <td>Thu 29 Jun, 3:41 pm</td>\n",
       "      <td>Auckland</td>\n",
       "      <td>Auckland City</td>\n",
       "      <td>99.3%</td>\n",
       "      <td>qllimited</td>\n",
       "    </tr>\n",
       "    <tr>\n",
       "      <th>7</th>\n",
       "      <td>iphone 6 Plus 64GB Silver Mint Condition+12 MsWty</td>\n",
       "      <td>iphone</td>\n",
       "      <td>iphone-6-plus</td>\n",
       "      <td>$699.00</td>\n",
       "      <td>$699.00</td>\n",
       "      <td>0</td>\n",
       "      <td>2 hrs 49 mins</td>\n",
       "      <td>Thu 29 Jun, 4:10 pm</td>\n",
       "      <td>Auckland</td>\n",
       "      <td>Auckland City</td>\n",
       "      <td>98.9%</td>\n",
       "      <td>future.tech</td>\n",
       "    </tr>\n",
       "    <tr>\n",
       "      <th>8</th>\n",
       "      <td>iphone 6 128GB Gold Mint Condition+12 Month Wty</td>\n",
       "      <td>iphone</td>\n",
       "      <td>iphone-6</td>\n",
       "      <td>$629.00</td>\n",
       "      <td>$629.00</td>\n",
       "      <td>0</td>\n",
       "      <td>2 hrs 49 mins</td>\n",
       "      <td>Thu 29 Jun, 4:10 pm</td>\n",
       "      <td>Auckland</td>\n",
       "      <td>Auckland City</td>\n",
       "      <td>98.9%</td>\n",
       "      <td>future.tech</td>\n",
       "    </tr>\n",
       "    <tr>\n",
       "      <th>9</th>\n",
       "      <td>Iphone 5s 64GB Black MintCondition Freeship+6 mty</td>\n",
       "      <td>iphone</td>\n",
       "      <td>iphone-5s</td>\n",
       "      <td>$419.00</td>\n",
       "      <td>$419.00</td>\n",
       "      <td>0</td>\n",
       "      <td>2 hrs 49 mins</td>\n",
       "      <td>Thu 29 Jun, 4:10 pm</td>\n",
       "      <td>Auckland</td>\n",
       "      <td>Auckland City</td>\n",
       "      <td>98.9%</td>\n",
       "      <td>future.tech</td>\n",
       "    </tr>\n",
       "    <tr>\n",
       "      <th>10</th>\n",
       "      <td>iphone 6 Plus 128GB Gold Mint Condition+12Ms Wty</td>\n",
       "      <td>iphone</td>\n",
       "      <td>iphone-6-plus</td>\n",
       "      <td>$729.00</td>\n",
       "      <td>$729.00</td>\n",
       "      <td>0</td>\n",
       "      <td>2 hrs 54 mins</td>\n",
       "      <td>Thu 29 Jun, 4:15 pm</td>\n",
       "      <td>Auckland</td>\n",
       "      <td>Auckland City</td>\n",
       "      <td>98.9%</td>\n",
       "      <td>future.tech</td>\n",
       "    </tr>\n",
       "    <tr>\n",
       "      <th>11</th>\n",
       "      <td>Iphone 5s 32GB Black Mint Condition Freeship+6...</td>\n",
       "      <td>iphone</td>\n",
       "      <td>iphone-5s</td>\n",
       "      <td>$399.00</td>\n",
       "      <td>$399.00</td>\n",
       "      <td>0</td>\n",
       "      <td>4 hours</td>\n",
       "      <td>Thu 29 Jun, 5:40 pm</td>\n",
       "      <td>Auckland</td>\n",
       "      <td>Auckland City</td>\n",
       "      <td>98.9%</td>\n",
       "      <td>future.tech</td>\n",
       "    </tr>\n",
       "    <tr>\n",
       "      <th>12</th>\n",
       "      <td>Refurbished Mint Samsung S5 White 4G 16GB 6mon...</td>\n",
       "      <td>samsung</td>\n",
       "      <td>galaxy-s5</td>\n",
       "      <td>$379.00</td>\n",
       "      <td>$379.00</td>\n",
       "      <td>0</td>\n",
       "      <td>4 hours</td>\n",
       "      <td>Thu 29 Jun, 6:15 pm</td>\n",
       "      <td>Auckland</td>\n",
       "      <td>Auckland City</td>\n",
       "      <td>98.9%</td>\n",
       "      <td>future.tech</td>\n",
       "    </tr>\n",
       "    <tr>\n",
       "      <th>13</th>\n",
       "      <td>Iphone 5S 64GB White Mint Condition Freeship+6Mty</td>\n",
       "      <td>iphone</td>\n",
       "      <td>iphone-5s</td>\n",
       "      <td>$419.00</td>\n",
       "      <td>$419.00</td>\n",
       "      <td>0</td>\n",
       "      <td>4 hours</td>\n",
       "      <td>Thu 29 Jun, 6:20 pm</td>\n",
       "      <td>Auckland</td>\n",
       "      <td>Auckland City</td>\n",
       "      <td>98.9%</td>\n",
       "      <td>future.tech</td>\n",
       "    </tr>\n",
       "    <tr>\n",
       "      <th>14</th>\n",
       "      <td>iphone 6 64GB Silver Mint Condition+12 Month Wty</td>\n",
       "      <td>iphone</td>\n",
       "      <td>iphone-6</td>\n",
       "      <td>$599.00</td>\n",
       "      <td>$599.00</td>\n",
       "      <td>0</td>\n",
       "      <td>5 hours</td>\n",
       "      <td>Thu 29 Jun, 7:05 pm</td>\n",
       "      <td>Auckland</td>\n",
       "      <td>Auckland City</td>\n",
       "      <td>98.9%</td>\n",
       "      <td>future.tech</td>\n",
       "    </tr>\n",
       "  </tbody>\n",
       "</table>\n",
       "</div>"
      ],
      "text/plain": [
       "                                           Phone Name    Brand  \\\n",
       "0      iphone 6 64GB Gold Mint Condition+12 Month Wty   iphone   \n",
       "1   Refurbished Mint Samsung S5 White 4G 16GB 6mon...  samsung   \n",
       "2   Iphone 5S 32GB Gold Mint Condition Freeship+6 ...   iphone   \n",
       "3               IPhone 6S Plus 128GB Gold Refurbished   iphone   \n",
       "4   Samsung Note 3 N9005 32GB Black Mint Condition...  samsung   \n",
       "5   iphone 6 Plus 64GB Gold Mint Condition+12 Mth Wty   iphone   \n",
       "6    iphone 5 64gb iphone 5 64G Black 1 year warranty   iphone   \n",
       "7   iphone 6 Plus 64GB Silver Mint Condition+12 MsWty   iphone   \n",
       "8     iphone 6 128GB Gold Mint Condition+12 Month Wty   iphone   \n",
       "9   Iphone 5s 64GB Black MintCondition Freeship+6 mty   iphone   \n",
       "10   iphone 6 Plus 128GB Gold Mint Condition+12Ms Wty   iphone   \n",
       "11  Iphone 5s 32GB Black Mint Condition Freeship+6...   iphone   \n",
       "12  Refurbished Mint Samsung S5 White 4G 16GB 6mon...  samsung   \n",
       "13  Iphone 5S 64GB White Mint Condition Freeship+6Mty   iphone   \n",
       "14   iphone 6 64GB Silver Mint Condition+12 Month Wty   iphone   \n",
       "\n",
       "              Type Buynow Price Bid Price Number of Bids    Closing Time  \\\n",
       "0         iphone-6      $599.00   $599.00              0         49 mins   \n",
       "1        galaxy-s5      $379.00   $379.00              0         49 mins   \n",
       "2        iphone-5s      $399.00   $399.00              0         53 mins   \n",
       "3   iphone-6s-plus      $929.00   $929.00              0     1 hr 9 mins   \n",
       "4      galaxy-note      $349.00   $349.00              0    1 hr 19 mins   \n",
       "5    iphone-6-plus      $699.00   $699.00              0    2 hrs 9 mins   \n",
       "6         iphone-5      $339.00   $339.00              0   2 hrs 20 mins   \n",
       "7    iphone-6-plus      $699.00   $699.00              0   2 hrs 49 mins   \n",
       "8         iphone-6      $629.00   $629.00              0   2 hrs 49 mins   \n",
       "9        iphone-5s      $419.00   $419.00              0   2 hrs 49 mins   \n",
       "10   iphone-6-plus      $729.00   $729.00              0   2 hrs 54 mins   \n",
       "11       iphone-5s      $399.00   $399.00              0         4 hours   \n",
       "12       galaxy-s5      $379.00   $379.00              0         4 hours   \n",
       "13       iphone-5s      $419.00   $419.00              0         4 hours   \n",
       "14        iphone-6      $599.00   $599.00              0         5 hours   \n",
       "\n",
       "           Closing Date    Region           City Seller Feedback  Seller Name  \n",
       "0   Thu 29 Jun, 2:10 pm  Auckland  Auckland City           98.9%  future.tech  \n",
       "1   Thu 29 Jun, 2:10 pm  Auckland  Auckland City           98.9%  future.tech  \n",
       "2   Thu 29 Jun, 2:14 pm  Auckland  Auckland City           98.9%  future.tech  \n",
       "3   Thu 29 Jun, 2:30 pm  Auckland  Auckland City           98.9%  future.tech  \n",
       "4   Thu 29 Jun, 2:40 pm  Auckland  Auckland City           98.9%  future.tech  \n",
       "5   Thu 29 Jun, 3:30 pm  Auckland  Auckland City           98.9%  future.tech  \n",
       "6   Thu 29 Jun, 3:41 pm  Auckland  Auckland City           99.3%    qllimited  \n",
       "7   Thu 29 Jun, 4:10 pm  Auckland  Auckland City           98.9%  future.tech  \n",
       "8   Thu 29 Jun, 4:10 pm  Auckland  Auckland City           98.9%  future.tech  \n",
       "9   Thu 29 Jun, 4:10 pm  Auckland  Auckland City           98.9%  future.tech  \n",
       "10  Thu 29 Jun, 4:15 pm  Auckland  Auckland City           98.9%  future.tech  \n",
       "11  Thu 29 Jun, 5:40 pm  Auckland  Auckland City           98.9%  future.tech  \n",
       "12  Thu 29 Jun, 6:15 pm  Auckland  Auckland City           98.9%  future.tech  \n",
       "13  Thu 29 Jun, 6:20 pm  Auckland  Auckland City           98.9%  future.tech  \n",
       "14  Thu 29 Jun, 7:05 pm  Auckland  Auckland City           98.9%  future.tech  "
      ]
     },
     "execution_count": 232,
     "metadata": {},
     "output_type": "execute_result"
    }
   ],
   "source": [
    "df=pd.DataFrame()\n",
    "\n",
    "df['Phone Name']=PhoneNames\n",
    "df['Brand']=Brand\n",
    "df['Type']=Type\n",
    "df['Buynow Price']=BuyNowPrice\n",
    "df['Bid Price']=BidPrice\n",
    "df['Number of Bids']=NumberBids\n",
    "df['Closing Time']=ClosingTime\n",
    "df['Closing Date']=ClosingDate\n",
    "df['Region']=Region\n",
    "df['City']=City\n",
    "df['Seller Feedback']=SellerFeedBack\n",
    "df['Seller Name']=SellerName\n",
    "\n",
    "\n",
    "\n",
    "df.head(15)"
   ]
  },
  {
   "cell_type": "code",
   "execution_count": 233,
   "metadata": {
    "collapsed": false
   },
   "outputs": [
    {
     "data": {
      "text/plain": [
       "'2017+06+29-16+46+57'"
      ]
     },
     "execution_count": 233,
     "metadata": {},
     "output_type": "execute_result"
    }
   ],
   "source": [
    "import time\n",
    "timestr = time.strftime(\"%Y+%m+%d-%H+%M+%S\")\n",
    "timestr"
   ]
  },
  {
   "cell_type": "code",
   "execution_count": 234,
   "metadata": {
    "collapsed": false
   },
   "outputs": [],
   "source": [
    "path='D:\\\\TradeMe2\\\\'\n",
    "df.to_csv(path+'SCRAPENEW'+timestr+'.csv', dwdelimiter=',', encoding='utf-8')"
   ]
  }
 ],
 "metadata": {
  "anaconda-cloud": {},
  "kernelspec": {
   "display_name": "Python [Root]",
   "language": "python",
   "name": "Python [Root]"
  },
  "language_info": {
   "codemirror_mode": {
    "name": "ipython",
    "version": 3
   },
   "file_extension": ".py",
   "mimetype": "text/x-python",
   "name": "python",
   "nbconvert_exporter": "python",
   "pygments_lexer": "ipython3",
   "version": "3.5.2"
  }
 },
 "nbformat": 4,
 "nbformat_minor": 0
}
