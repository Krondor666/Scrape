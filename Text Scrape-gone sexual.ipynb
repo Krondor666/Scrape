{
 "cells": [
  {
   "cell_type": "code",
   "execution_count": 1,
   "metadata": {
    "collapsed": false
   },
   "outputs": [],
   "source": [
    "import urllib  \n",
    "import urllib.request\n",
    "from bs4 import BeautifulSoup\n",
    "import pandas as pd\n",
    "import numpy as np\n",
    "\n",
    "#importing required packages"
   ]
  },
  {
   "cell_type": "code",
   "execution_count": 2,
   "metadata": {
    "collapsed": false
   },
   "outputs": [],
   "source": [
    "opener=urllib.request.build_opener() \n",
    "opener.addheaders=[('User-Agent', 'Google Chrome/57.0.2987.133')]"
   ]
  },
  {
   "cell_type": "code",
   "execution_count": 3,
   "metadata": {
    "collapsed": false
   },
   "outputs": [],
   "source": [
    "url=('http://www.trademe.co.nz')\n",
    "ourURL=opener.open(url).read()\n",
    "import re"
   ]
  },
  {
   "cell_type": "code",
   "execution_count": 4,
   "metadata": {
    "collapsed": false
   },
   "outputs": [],
   "source": [
    "soup=BeautifulSoup(ourURL, \"lxml\")"
   ]
  },
  {
   "cell_type": "code",
   "execution_count": 5,
   "metadata": {
    "collapsed": false
   },
   "outputs": [],
   "source": [
    "#soup #this is all the HTML on the given URL.\n",
    "\n",
    "#print(soup(text=re.compile(\"Mobile\")))"
   ]
  },
  {
   "cell_type": "code",
   "execution_count": 6,
   "metadata": {
    "collapsed": false
   },
   "outputs": [
    {
     "data": {
      "text/plain": [
       "'http://www.trademe.co.nz/browse/categorylistings.aspx?rptpath=344-422-&mcatpath=mobile-phones%2fmobile-phones&page=0'"
      ]
     },
     "execution_count": 6,
     "metadata": {},
     "output_type": "execute_result"
    }
   ],
   "source": [
    "def urlmaker(page):\n",
    "    return('http://www.trademe.co.nz/browse/categorylistings.aspx?rptpath=344-422-&mcatpath=mobile-phones%2fmobile-phones&page='\n",
    "           +str(page))\n",
    "urlmaker(0)"
   ]
  },
  {
   "cell_type": "code",
   "execution_count": 7,
   "metadata": {
    "collapsed": false
   },
   "outputs": [],
   "source": [
    "def soupify(page):\n",
    "    return(BeautifulSoup(opener.open(urlmaker(page)).read(),\"lxml\") )\n",
    "#soupify(0)"
   ]
  },
  {
   "cell_type": "code",
   "execution_count": 8,
   "metadata": {
    "collapsed": false
   },
   "outputs": [],
   "source": [
    "#this is every instance of soupify, to make less reliance on functions later-> and to hault time.\n",
    "#I will run this once per day.\n",
    "\n",
    "soups=[]\n",
    "\n",
    "for i in range(1,100):\n",
    "    soups.append(soupify(i))\n",
    "\n",
    "#soups[0]\n",
    "\n",
    "#UPDATE: Yeah this made it work like 10X faster. :>"
   ]
  },
  {
   "cell_type": "code",
   "execution_count": 9,
   "metadata": {
    "collapsed": false
   },
   "outputs": [],
   "source": [
    "#definitions have to be more complex here...\n",
    "\n",
    "#the below contains all items as a single string.\n",
    "\n",
    "def item(page):\n",
    "    p=soups[page].findAll('a', {'class':re.compile(\"tile\")})\n",
    "    paragraphs=[]\n",
    "    \n",
    "    for x in p:\n",
    "        paragraphs.append(str(x))\n",
    "    for i in range(len(paragraphs)):  \n",
    "        paragraphs[i]=\" \".join(paragraphs[i].split())\n",
    "    return(paragraphs)\n",
    "\n",
    "#item(0)\n",
    "\n",
    "#This is information on each item for that page. If I can find an effecive way to\n",
    "#subset this, I can gather information in 1 step"
   ]
  },
  {
   "cell_type": "code",
   "execution_count": 10,
   "metadata": {
    "collapsed": false
   },
   "outputs": [],
   "source": [
    "#TIME TO GO HYPERSPEED.\n",
    "\n",
    "items=[]\n",
    "for j in range(len(soups)):\n",
    "        items.append(item(j))\n",
    "     "
   ]
  },
  {
   "cell_type": "code",
   "execution_count": 27,
   "metadata": {
    "collapsed": false
   },
   "outputs": [
    {
     "data": {
      "text/plain": [
       "'Enter logic either side of (.+?) {in the red}'"
      ]
     },
     "execution_count": 27,
     "metadata": {},
     "output_type": "execute_result"
    }
   ],
   "source": [
    "def location(page):\n",
    "    liste=[]\n",
    "    for i in range(len(items[page])):\n",
    "        liste.append(re.search('<div class=\"location\">(.+?)</div>', items[page][i]).group(1)) \n",
    "    return(liste) \n",
    "\n",
    "def name(page):\n",
    "    liste=[]\n",
    "    for i in range(len(items[page])):\n",
    "        liste.append(re.search('<div class=\"title\">(.+?)</div>', items[page][i]).group(1)) \n",
    "    return(liste)\n",
    "\n",
    "def bidprices(page):\n",
    "    liste=[]\n",
    "    for i in range(len(items[page])):\n",
    "        try:\n",
    "            liste.append(re.search('<div class=\"listingBidPrice\" id=\"SuperGridGallery_ctl00_BidInfo_listingBidPrice\">(.+?)</div>', items[page][i]).group(1))  \n",
    "        except:\n",
    "            liste.append('BuyNowOnly')\n",
    "    return(liste)\n",
    "\n",
    "def buynowprices(page):\n",
    "    liste=[]\n",
    "    for i in range(len(items[page])):\n",
    "        try:\n",
    "            liste.append(re.search('<div class=\"listingBuyNowPrice\" id=\"SuperGridGallery_ctl00_BuyNow_listingBuyNowPrice\">(.+?)</div>', items[page][i]).group(1)) \n",
    "        except:\n",
    "            liste.append('BidOnly')\n",
    "    return(liste)\n",
    "\n",
    "\n",
    "\n",
    "\n",
    "'Enter logic either side of (.+?) {in the red}'"
   ]
  }
 ],
 "metadata": {
  "anaconda-cloud": {},
  "kernelspec": {
   "display_name": "Python [Root]",
   "language": "python",
   "name": "Python [Root]"
  },
  "language_info": {
   "codemirror_mode": {
    "name": "ipython",
    "version": 3
   },
   "file_extension": ".py",
   "mimetype": "text/x-python",
   "name": "python",
   "nbconvert_exporter": "python",
   "pygments_lexer": "ipython3",
   "version": "3.5.2"
  }
 },
 "nbformat": 4,
 "nbformat_minor": 0
}
