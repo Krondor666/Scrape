{
 "cells": [
  {
   "cell_type": "code",
   "execution_count": 78,
   "metadata": {
    "collapsed": false
   },
   "outputs": [],
   "source": [
    "import urllib  \n",
    "import urllib.request\n",
    "from bs4 import BeautifulSoup\n",
    "import pandas as pd\n",
    "import numpy as np\n",
    "\n",
    "#importing required packages"
   ]
  },
  {
   "cell_type": "code",
   "execution_count": 79,
   "metadata": {
    "collapsed": false
   },
   "outputs": [],
   "source": [
    "opener=urllib.request.build_opener() \n",
    "opener.addheaders=[('User-Agent', 'Google Chrome/57.0.2987.133')]"
   ]
  },
  {
   "cell_type": "code",
   "execution_count": 80,
   "metadata": {
    "collapsed": false
   },
   "outputs": [],
   "source": [
    "url=('http://www.trademe.co.nz')\n",
    "ourURL=opener.open(url).read()\n",
    "import re"
   ]
  },
  {
   "cell_type": "code",
   "execution_count": 81,
   "metadata": {
    "collapsed": false
   },
   "outputs": [],
   "source": [
    "soup=BeautifulSoup(ourURL, \"lxml\")"
   ]
  },
  {
   "cell_type": "code",
   "execution_count": 82,
   "metadata": {
    "collapsed": false
   },
   "outputs": [],
   "source": [
    "#soup #this is all the HTML on the given URL.\n",
    "\n",
    "#print(soup(text=re.compile(\"Mobile\")))"
   ]
  },
  {
   "cell_type": "code",
   "execution_count": 83,
   "metadata": {
    "collapsed": false
   },
   "outputs": [
    {
     "data": {
      "text/plain": [
       "'http://www.trademe.co.nz/browse/categorylistings.aspx?rptpath=344-422-&mcatpath=mobile-phones%2fmobile-phones&page=0'"
      ]
     },
     "execution_count": 83,
     "metadata": {},
     "output_type": "execute_result"
    }
   ],
   "source": [
    "def urlmaker(page):\n",
    "    return('http://www.trademe.co.nz/browse/categorylistings.aspx?rptpath=344-422-&mcatpath=mobile-phones%2fmobile-phones&page='\n",
    "           +str(page))\n",
    "urlmaker(0)"
   ]
  },
  {
   "cell_type": "code",
   "execution_count": 84,
   "metadata": {
    "collapsed": false
   },
   "outputs": [],
   "source": [
    "def soupify(page):\n",
    "    return(BeautifulSoup(opener.open(urlmaker(page)).read(),\"lxml\") )\n",
    "#soupify(0)"
   ]
  },
  {
   "cell_type": "code",
   "execution_count": 85,
   "metadata": {
    "collapsed": false
   },
   "outputs": [],
   "source": [
    "#this is every instance of soupify, to make less reliance on functions later-> and to hault time.\n",
    "#I will run this once per day.\n",
    "\n",
    "soups=[]\n",
    "\n",
    "for i in range(0,99):\n",
    "    soups.append(soupify(i))\n",
    "\n",
    "#soups[0]\n",
    "\n",
    "#UPDATE: Yeah this made it work like 10X faster. :>"
   ]
  },
  {
   "cell_type": "code",
   "execution_count": 86,
   "metadata": {
    "collapsed": false
   },
   "outputs": [],
   "source": [
    "#definitions have to be more complex here...\n",
    "\n",
    "#the below contains all items as a single string.\n",
    "\n",
    "def item(page):\n",
    "    p=soups[page].findAll('a', {'class':re.compile(\"tile\")})\n",
    "    paragraphs=[]\n",
    "    \n",
    "    for x in p:\n",
    "        paragraphs.append(str(x))\n",
    "    for i in range(len(paragraphs)):  \n",
    "        paragraphs[i]=\" \".join(paragraphs[i].split())\n",
    "    return(paragraphs)\n",
    "\n",
    "#item(0)\n",
    "\n",
    "#This is information on each item for that page. If I can find an effecive way to\n",
    "#subset this, I can gather information in 1 step"
   ]
  },
  {
   "cell_type": "code",
   "execution_count": 87,
   "metadata": {
    "collapsed": false
   },
   "outputs": [],
   "source": [
    "#TIME TO GO HYPERSPEED.\n",
    "\n",
    "items=[]\n",
    "for j in range(len(soups)):\n",
    "        items.append(item(j))\n",
    "     "
   ]
  },
  {
   "cell_type": "code",
   "execution_count": 88,
   "metadata": {
    "collapsed": false
   },
   "outputs": [
    {
     "data": {
      "text/plain": [
       "'Enter logic either side of (.+?) {in the red}'"
      ]
     },
     "execution_count": 88,
     "metadata": {},
     "output_type": "execute_result"
    }
   ],
   "source": [
    "def location(page):\n",
    "    liste=[]\n",
    "    for i in range(len(items[page])):\n",
    "        liste.append(re.search('<div class=\"location\">(.+?)</div>', items[page][i]).group(1)) \n",
    "    return(liste) \n",
    "\n",
    "def name(page):\n",
    "    liste=[]\n",
    "    for i in range(len(items[page])):\n",
    "        liste.append(re.search('<div class=\"title\">(.+?)</div>', items[page][i]).group(1))  \n",
    "    return(liste)\n",
    "\n",
    "def bidprices(page):\n",
    "    liste=[]\n",
    "    for i in range(len(items[page])):\n",
    "        try:\n",
    "            liste.append(re.search('<div class=\"listingBidPrice\" id=\"SuperGridGallery_ctl00_BidInfo_listingBidPrice\">(.+?)</div>', items[page][i]).group(1))\n",
    "        except:\n",
    "            liste.append('BuyNowOnly')\n",
    "    return(liste)\n",
    "\n",
    "def buynowprices(page):\n",
    "    liste=[]\n",
    "    for i in range(len(items[page])):\n",
    "        try:\n",
    "            liste.append(re.search('<div class=\"listingBuyNowPrice\" id=\"SuperGridGallery_ctl00_BuyNow_listingBuyNowPrice\">(.+?)</div>', items[page][i]).group(1))  \n",
    "        except:\n",
    "            liste.append('BidOnly')\n",
    "    return(liste)\n",
    "\n",
    "'Enter logic either side of (.+?) {in the red}'"
   ]
  },
  {
   "cell_type": "code",
   "execution_count": 89,
   "metadata": {
    "collapsed": false
   },
   "outputs": [],
   "source": [
    "locations=[]\n",
    "\n",
    "for i in range(len(soups)):\n",
    "    locations.append(location(i))\n",
    "    \n",
    "flattened_locations = [val for sublist in locations for val in sublist]\n",
    "#flattened_locations"
   ]
  },
  {
   "cell_type": "code",
   "execution_count": 90,
   "metadata": {
    "collapsed": false
   },
   "outputs": [],
   "source": [
    "names=[]\n",
    "\n",
    "for i in range(len(soups)):\n",
    "    names.append(name(i))\n",
    "    \n",
    "flattened_names = [val for sublist in names for val in sublist]\n",
    "#flattened_names"
   ]
  },
  {
   "cell_type": "code",
   "execution_count": 91,
   "metadata": {
    "collapsed": false
   },
   "outputs": [],
   "source": [
    "bidpricess=[]\n",
    "\n",
    "for i in range(len(soups)):\n",
    "    bidpricess.append(bidprices(i))\n",
    "    \n",
    "flattened_bidprices = [val for sublist in bidpricess for val in sublist]\n",
    "#flattened_bidprices"
   ]
  },
  {
   "cell_type": "code",
   "execution_count": 92,
   "metadata": {
    "collapsed": true
   },
   "outputs": [],
   "source": [
    "buynowpricess=[]\n",
    "\n",
    "for i in range(len(soups)):\n",
    "    buynowpricess.append(buynowprices(i))\n",
    "    \n",
    "flattened_buynowprices = [val for sublist in buynowpricess for val in sublist]\n",
    "#flattened_buynowpricess"
   ]
  },
  {
   "cell_type": "code",
   "execution_count": 93,
   "metadata": {
    "collapsed": false
   },
   "outputs": [],
   "source": [
    "Frame=pd.DataFrame()\n",
    "\n",
    "Frame['Location']=flattened_locations\n",
    "Frame['Item_Name']=flattened_names\n",
    "Frame['Bid_Price']=flattened_bidprices\n",
    "Frame['BuyNow_Price']=flattened_buynowprices\n",
    "\n",
    "Frame.to_csv('TM_scrape_initial.csv', delimiter=',', encoding='utf-8')"
   ]
  },
  {
   "cell_type": "code",
   "execution_count": null,
   "metadata": {
    "collapsed": false
   },
   "outputs": [],
   "source": []
  },
  {
   "cell_type": "code",
   "execution_count": null,
   "metadata": {
    "collapsed": true
   },
   "outputs": [],
   "source": []
  }
 ],
 "metadata": {
  "anaconda-cloud": {},
  "kernelspec": {
   "display_name": "Python [Root]",
   "language": "python",
   "name": "Python [Root]"
  },
  "language_info": {
   "codemirror_mode": {
    "name": "ipython",
    "version": 3
   },
   "file_extension": ".py",
   "mimetype": "text/x-python",
   "name": "python",
   "nbconvert_exporter": "python",
   "pygments_lexer": "ipython3",
   "version": "3.5.2"
  }
 },
 "nbformat": 4,
 "nbformat_minor": 0
}
